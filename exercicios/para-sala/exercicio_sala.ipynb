{
 "cells": [
  {
   "cell_type": "markdown",
   "metadata": {},
   "source": [
    "# Exercicio Sala\n",
    "\n",
    " ***Dia mais frio do ano e por estação***\n",
    " ***Dia mais quente do ano e por estação***\n",
    " ***Média da umidade do ano e por estação ***\n",
    " ***Umidade minima e maxima anual***\n",
    " ***A moda da temperatura anual***\n",
    " ***Média temperatura anual de 2022 e 2023***\n",
    " ***Média da tempertura por estação 2022 e 2023***\n",
    " ***Média de chuva precipitação por estação***\n",
    " ***Minima e maxima de chuva***\n",
    " ***Variação de temperatura max e min por estação***\n",
    " ***Velocidade média do vento***\n",
    " ***Mediana da pressão atmosferica***"
   ]
  },
  {
   "cell_type": "code",
   "execution_count": 1,
   "metadata": {},
   "outputs": [],
   "source": [
    "import pandas as pd\n",
    "\n",
    "df = pd.read_csv('BRASILIA_2023.csv', delimiter=';', skiprows=8,encoding='latin1')\n"
   ]
  },
  {
   "cell_type": "code",
   "execution_count": null,
   "metadata": {},
   "outputs": [],
   "source": [
    "#exibe as 5 primeiras linhas mantendo o cabeçalho\n",
    "df.head()"
   ]
  },
  {
   "cell_type": "code",
   "execution_count": null,
   "metadata": {},
   "outputs": [],
   "source": [
    "#exibe quantas linhas quiser colocando os parametros\n",
    "df.head(20)"
   ]
  },
  {
   "cell_type": "code",
   "execution_count": null,
   "metadata": {},
   "outputs": [],
   "source": [
    "#exibe as 5 últimas linhas do DF(dataframe)\n",
    "df.tail()"
   ]
  },
  {
   "cell_type": "code",
   "execution_count": 6,
   "metadata": {},
   "outputs": [
    {
     "data": {
      "text/plain": [
       "(8760, 20)"
      ]
     },
     "execution_count": 6,
     "metadata": {},
     "output_type": "execute_result"
    }
   ],
   "source": [
    "#\n",
    "df.shape #shape  não usa () ele atributo"
   ]
  },
  {
   "cell_type": "code",
   "execution_count": null,
   "metadata": {},
   "outputs": [],
   "source": [
    "df.describe()"
   ]
  },
  {
   "cell_type": "code",
   "execution_count": null,
   "metadata": {},
   "outputs": [],
   "source": [
    "#exive o tipo de dados\n",
    "\n",
    "df.dtypes"
   ]
  },
  {
   "cell_type": "code",
   "execution_count": null,
   "metadata": {},
   "outputs": [],
   "source": [
    "#pegar amostra aleatóra\n",
    "df.sample(n=5)"
   ]
  },
  {
   "cell_type": "code",
   "execution_count": 24,
   "metadata": {},
   "outputs": [],
   "source": [
    "dt_reduzido = df[['Data','Hora UTC','PRECIPITAÇÃO TOTAL, HORÁRIO (mm)','TEMPERATURA MÁXIMA NA HORA ANT. (AUT) (°C)']]"
   ]
  },
  {
   "cell_type": "code",
   "execution_count": null,
   "metadata": {},
   "outputs": [],
   "source": [
    "dt_reduzido.head()"
   ]
  },
  {
   "cell_type": "code",
   "execution_count": 20,
   "metadata": {},
   "outputs": [
    {
     "data": {
      "text/plain": [
       "0    2023/01/01\n",
       "Name: Data, dtype: object"
      ]
     },
     "execution_count": 20,
     "metadata": {},
     "output_type": "execute_result"
    }
   ],
   "source": [
    "coluna_data =df['Data']\n",
    "coluna_data.head(1)\n"
   ]
  },
  {
   "cell_type": "code",
   "execution_count": 41,
   "metadata": {},
   "outputs": [],
   "source": [
    "coluna_vento = df['VENTO, DIREÇÃO HORARIA (gr) (° (gr))']"
   ]
  },
  {
   "cell_type": "code",
   "execution_count": 42,
   "metadata": {},
   "outputs": [
    {
     "data": {
      "text/plain": [
       "np.float64(1.0)"
      ]
     },
     "execution_count": 42,
     "metadata": {},
     "output_type": "execute_result"
    }
   ],
   "source": [
    "coluna_vento.min()"
   ]
  },
  {
   "cell_type": "code",
   "execution_count": 43,
   "metadata": {},
   "outputs": [
    {
     "data": {
      "text/plain": [
       "np.float64(360.0)"
      ]
     },
     "execution_count": 43,
     "metadata": {},
     "output_type": "execute_result"
    }
   ],
   "source": [
    "coluna_vento.max()"
   ]
  },
  {
   "cell_type": "code",
   "execution_count": 61,
   "metadata": {},
   "outputs": [],
   "source": [
    "coluna_temperatura_maxima = pd.to_numeric(df['TEMPERATURA MÁXIMA NA HORA ANT. (AUT) (°C)'], errors='coerce')"
   ]
  },
  {
   "cell_type": "code",
   "execution_count": 65,
   "metadata": {},
   "outputs": [
    {
     "data": {
      "text/plain": [
       "np.float64(11.0)"
      ]
     },
     "execution_count": 65,
     "metadata": {},
     "output_type": "execute_result"
    }
   ],
   "source": [
    "coluna_temperatura_maxima.min()"
   ]
  },
  {
   "cell_type": "code",
   "execution_count": 66,
   "metadata": {},
   "outputs": [
    {
     "data": {
      "text/plain": [
       "np.float64(34.0)"
      ]
     },
     "execution_count": 66,
     "metadata": {},
     "output_type": "execute_result"
    }
   ],
   "source": [
    "coluna_temperatura_maxima.max()"
   ]
  },
  {
   "cell_type": "code",
   "execution_count": 67,
   "metadata": {},
   "outputs": [
    {
     "data": {
      "text/plain": [
       "np.float64(19364.0)"
      ]
     },
     "execution_count": 67,
     "metadata": {},
     "output_type": "execute_result"
    }
   ],
   "source": [
    "coluna_temperatura_maxima.sum()"
   ]
  },
  {
   "cell_type": "code",
   "execution_count": 68,
   "metadata": {},
   "outputs": [
    {
     "data": {
      "text/plain": [
       "np.float64(22.67447306791569)"
      ]
     },
     "execution_count": 68,
     "metadata": {},
     "output_type": "execute_result"
    }
   ],
   "source": [
    "coluna_temperatura_maxima.mean()"
   ]
  },
  {
   "cell_type": "code",
   "execution_count": 74,
   "metadata": {},
   "outputs": [
    {
     "data": {
      "text/html": [
       "<div>\n",
       "<style scoped>\n",
       "    .dataframe tbody tr th:only-of-type {\n",
       "        vertical-align: middle;\n",
       "    }\n",
       "\n",
       "    .dataframe tbody tr th {\n",
       "        vertical-align: top;\n",
       "    }\n",
       "\n",
       "    .dataframe thead th {\n",
       "        text-align: right;\n",
       "    }\n",
       "</style>\n",
       "<table border=\"1\" class=\"dataframe\">\n",
       "  <thead>\n",
       "    <tr style=\"text-align: right;\">\n",
       "      <th></th>\n",
       "      <th>Data</th>\n",
       "      <th>Hora UTC</th>\n",
       "      <th>PRECIPITAÇÃO TOTAL, HORÁRIO (mm)</th>\n",
       "      <th>PRESSAO ATMOSFERICA AO NIVEL DA ESTACAO, HORARIA (mB)</th>\n",
       "      <th>PRESSÃO ATMOSFERICA MAX.NA HORA ANT. (AUT) (mB)</th>\n",
       "      <th>PRESSÃO ATMOSFERICA MIN. NA HORA ANT. (AUT) (mB)</th>\n",
       "      <th>RADIACAO GLOBAL (Kj/m²)</th>\n",
       "      <th>TEMPERATURA DO AR - BULBO SECO, HORARIA (°C)</th>\n",
       "      <th>TEMPERATURA DO PONTO DE ORVALHO (°C)</th>\n",
       "      <th>TEMPERATURA MÁXIMA NA HORA ANT. (AUT) (°C)</th>\n",
       "      <th>TEMPERATURA MÍNIMA NA HORA ANT. (AUT) (°C)</th>\n",
       "      <th>TEMPERATURA ORVALHO MAX. NA HORA ANT. (AUT) (°C)</th>\n",
       "      <th>TEMPERATURA ORVALHO MIN. NA HORA ANT. (AUT) (°C)</th>\n",
       "      <th>UMIDADE REL. MAX. NA HORA ANT. (AUT) (%)</th>\n",
       "      <th>UMIDADE REL. MIN. NA HORA ANT. (AUT) (%)</th>\n",
       "      <th>UMIDADE RELATIVA DO AR, HORARIA (%)</th>\n",
       "      <th>VENTO, DIREÇÃO HORARIA (gr) (° (gr))</th>\n",
       "      <th>VENTO, RAJADA MAXIMA (m/s)</th>\n",
       "      <th>VENTO, VELOCIDADE HORARIA (m/s)</th>\n",
       "      <th>Unnamed: 19</th>\n",
       "    </tr>\n",
       "  </thead>\n",
       "  <tbody>\n",
       "    <tr>\n",
       "      <th>0</th>\n",
       "      <td>False</td>\n",
       "      <td>False</td>\n",
       "      <td>False</td>\n",
       "      <td>False</td>\n",
       "      <td>False</td>\n",
       "      <td>False</td>\n",
       "      <td>True</td>\n",
       "      <td>False</td>\n",
       "      <td>False</td>\n",
       "      <td>False</td>\n",
       "      <td>False</td>\n",
       "      <td>False</td>\n",
       "      <td>False</td>\n",
       "      <td>False</td>\n",
       "      <td>False</td>\n",
       "      <td>False</td>\n",
       "      <td>False</td>\n",
       "      <td>False</td>\n",
       "      <td>False</td>\n",
       "      <td>True</td>\n",
       "    </tr>\n",
       "    <tr>\n",
       "      <th>1</th>\n",
       "      <td>False</td>\n",
       "      <td>False</td>\n",
       "      <td>False</td>\n",
       "      <td>False</td>\n",
       "      <td>False</td>\n",
       "      <td>False</td>\n",
       "      <td>True</td>\n",
       "      <td>False</td>\n",
       "      <td>False</td>\n",
       "      <td>False</td>\n",
       "      <td>False</td>\n",
       "      <td>False</td>\n",
       "      <td>False</td>\n",
       "      <td>False</td>\n",
       "      <td>False</td>\n",
       "      <td>False</td>\n",
       "      <td>False</td>\n",
       "      <td>False</td>\n",
       "      <td>False</td>\n",
       "      <td>True</td>\n",
       "    </tr>\n",
       "    <tr>\n",
       "      <th>2</th>\n",
       "      <td>False</td>\n",
       "      <td>False</td>\n",
       "      <td>False</td>\n",
       "      <td>False</td>\n",
       "      <td>False</td>\n",
       "      <td>False</td>\n",
       "      <td>True</td>\n",
       "      <td>False</td>\n",
       "      <td>False</td>\n",
       "      <td>False</td>\n",
       "      <td>False</td>\n",
       "      <td>False</td>\n",
       "      <td>False</td>\n",
       "      <td>False</td>\n",
       "      <td>False</td>\n",
       "      <td>False</td>\n",
       "      <td>False</td>\n",
       "      <td>False</td>\n",
       "      <td>False</td>\n",
       "      <td>True</td>\n",
       "    </tr>\n",
       "    <tr>\n",
       "      <th>3</th>\n",
       "      <td>False</td>\n",
       "      <td>False</td>\n",
       "      <td>False</td>\n",
       "      <td>False</td>\n",
       "      <td>False</td>\n",
       "      <td>False</td>\n",
       "      <td>True</td>\n",
       "      <td>False</td>\n",
       "      <td>False</td>\n",
       "      <td>False</td>\n",
       "      <td>False</td>\n",
       "      <td>False</td>\n",
       "      <td>False</td>\n",
       "      <td>False</td>\n",
       "      <td>False</td>\n",
       "      <td>False</td>\n",
       "      <td>False</td>\n",
       "      <td>False</td>\n",
       "      <td>False</td>\n",
       "      <td>True</td>\n",
       "    </tr>\n",
       "    <tr>\n",
       "      <th>4</th>\n",
       "      <td>False</td>\n",
       "      <td>False</td>\n",
       "      <td>False</td>\n",
       "      <td>False</td>\n",
       "      <td>False</td>\n",
       "      <td>False</td>\n",
       "      <td>True</td>\n",
       "      <td>False</td>\n",
       "      <td>False</td>\n",
       "      <td>False</td>\n",
       "      <td>False</td>\n",
       "      <td>False</td>\n",
       "      <td>False</td>\n",
       "      <td>False</td>\n",
       "      <td>False</td>\n",
       "      <td>False</td>\n",
       "      <td>False</td>\n",
       "      <td>False</td>\n",
       "      <td>False</td>\n",
       "      <td>True</td>\n",
       "    </tr>\n",
       "    <tr>\n",
       "      <th>...</th>\n",
       "      <td>...</td>\n",
       "      <td>...</td>\n",
       "      <td>...</td>\n",
       "      <td>...</td>\n",
       "      <td>...</td>\n",
       "      <td>...</td>\n",
       "      <td>...</td>\n",
       "      <td>...</td>\n",
       "      <td>...</td>\n",
       "      <td>...</td>\n",
       "      <td>...</td>\n",
       "      <td>...</td>\n",
       "      <td>...</td>\n",
       "      <td>...</td>\n",
       "      <td>...</td>\n",
       "      <td>...</td>\n",
       "      <td>...</td>\n",
       "      <td>...</td>\n",
       "      <td>...</td>\n",
       "      <td>...</td>\n",
       "    </tr>\n",
       "    <tr>\n",
       "      <th>8755</th>\n",
       "      <td>False</td>\n",
       "      <td>False</td>\n",
       "      <td>False</td>\n",
       "      <td>False</td>\n",
       "      <td>False</td>\n",
       "      <td>False</td>\n",
       "      <td>False</td>\n",
       "      <td>False</td>\n",
       "      <td>False</td>\n",
       "      <td>False</td>\n",
       "      <td>False</td>\n",
       "      <td>False</td>\n",
       "      <td>False</td>\n",
       "      <td>False</td>\n",
       "      <td>False</td>\n",
       "      <td>False</td>\n",
       "      <td>False</td>\n",
       "      <td>False</td>\n",
       "      <td>False</td>\n",
       "      <td>True</td>\n",
       "    </tr>\n",
       "    <tr>\n",
       "      <th>8756</th>\n",
       "      <td>False</td>\n",
       "      <td>False</td>\n",
       "      <td>False</td>\n",
       "      <td>False</td>\n",
       "      <td>False</td>\n",
       "      <td>False</td>\n",
       "      <td>False</td>\n",
       "      <td>False</td>\n",
       "      <td>False</td>\n",
       "      <td>False</td>\n",
       "      <td>False</td>\n",
       "      <td>False</td>\n",
       "      <td>False</td>\n",
       "      <td>False</td>\n",
       "      <td>False</td>\n",
       "      <td>False</td>\n",
       "      <td>False</td>\n",
       "      <td>False</td>\n",
       "      <td>False</td>\n",
       "      <td>True</td>\n",
       "    </tr>\n",
       "    <tr>\n",
       "      <th>8757</th>\n",
       "      <td>False</td>\n",
       "      <td>False</td>\n",
       "      <td>False</td>\n",
       "      <td>False</td>\n",
       "      <td>False</td>\n",
       "      <td>False</td>\n",
       "      <td>False</td>\n",
       "      <td>False</td>\n",
       "      <td>False</td>\n",
       "      <td>False</td>\n",
       "      <td>False</td>\n",
       "      <td>False</td>\n",
       "      <td>False</td>\n",
       "      <td>False</td>\n",
       "      <td>False</td>\n",
       "      <td>False</td>\n",
       "      <td>False</td>\n",
       "      <td>False</td>\n",
       "      <td>False</td>\n",
       "      <td>True</td>\n",
       "    </tr>\n",
       "    <tr>\n",
       "      <th>8758</th>\n",
       "      <td>False</td>\n",
       "      <td>False</td>\n",
       "      <td>False</td>\n",
       "      <td>False</td>\n",
       "      <td>False</td>\n",
       "      <td>False</td>\n",
       "      <td>False</td>\n",
       "      <td>False</td>\n",
       "      <td>False</td>\n",
       "      <td>False</td>\n",
       "      <td>False</td>\n",
       "      <td>False</td>\n",
       "      <td>False</td>\n",
       "      <td>False</td>\n",
       "      <td>False</td>\n",
       "      <td>False</td>\n",
       "      <td>False</td>\n",
       "      <td>False</td>\n",
       "      <td>False</td>\n",
       "      <td>True</td>\n",
       "    </tr>\n",
       "    <tr>\n",
       "      <th>8759</th>\n",
       "      <td>False</td>\n",
       "      <td>False</td>\n",
       "      <td>False</td>\n",
       "      <td>False</td>\n",
       "      <td>False</td>\n",
       "      <td>False</td>\n",
       "      <td>True</td>\n",
       "      <td>False</td>\n",
       "      <td>False</td>\n",
       "      <td>False</td>\n",
       "      <td>False</td>\n",
       "      <td>False</td>\n",
       "      <td>False</td>\n",
       "      <td>False</td>\n",
       "      <td>False</td>\n",
       "      <td>False</td>\n",
       "      <td>False</td>\n",
       "      <td>False</td>\n",
       "      <td>False</td>\n",
       "      <td>True</td>\n",
       "    </tr>\n",
       "  </tbody>\n",
       "</table>\n",
       "<p>8760 rows × 20 columns</p>\n",
       "</div>"
      ],
      "text/plain": [
       "       Data  Hora UTC  PRECIPITAÇÃO TOTAL, HORÁRIO (mm)  \\\n",
       "0     False     False                             False   \n",
       "1     False     False                             False   \n",
       "2     False     False                             False   \n",
       "3     False     False                             False   \n",
       "4     False     False                             False   \n",
       "...     ...       ...                               ...   \n",
       "8755  False     False                             False   \n",
       "8756  False     False                             False   \n",
       "8757  False     False                             False   \n",
       "8758  False     False                             False   \n",
       "8759  False     False                             False   \n",
       "\n",
       "      PRESSAO ATMOSFERICA AO NIVEL DA ESTACAO, HORARIA (mB)  \\\n",
       "0                                                 False       \n",
       "1                                                 False       \n",
       "2                                                 False       \n",
       "3                                                 False       \n",
       "4                                                 False       \n",
       "...                                                 ...       \n",
       "8755                                              False       \n",
       "8756                                              False       \n",
       "8757                                              False       \n",
       "8758                                              False       \n",
       "8759                                              False       \n",
       "\n",
       "      PRESSÃO ATMOSFERICA MAX.NA HORA ANT. (AUT) (mB)  \\\n",
       "0                                               False   \n",
       "1                                               False   \n",
       "2                                               False   \n",
       "3                                               False   \n",
       "4                                               False   \n",
       "...                                               ...   \n",
       "8755                                            False   \n",
       "8756                                            False   \n",
       "8757                                            False   \n",
       "8758                                            False   \n",
       "8759                                            False   \n",
       "\n",
       "      PRESSÃO ATMOSFERICA MIN. NA HORA ANT. (AUT) (mB)  \\\n",
       "0                                                False   \n",
       "1                                                False   \n",
       "2                                                False   \n",
       "3                                                False   \n",
       "4                                                False   \n",
       "...                                                ...   \n",
       "8755                                             False   \n",
       "8756                                             False   \n",
       "8757                                             False   \n",
       "8758                                             False   \n",
       "8759                                             False   \n",
       "\n",
       "      RADIACAO GLOBAL (Kj/m²)  TEMPERATURA DO AR - BULBO SECO, HORARIA (°C)  \\\n",
       "0                        True                                         False   \n",
       "1                        True                                         False   \n",
       "2                        True                                         False   \n",
       "3                        True                                         False   \n",
       "4                        True                                         False   \n",
       "...                       ...                                           ...   \n",
       "8755                    False                                         False   \n",
       "8756                    False                                         False   \n",
       "8757                    False                                         False   \n",
       "8758                    False                                         False   \n",
       "8759                     True                                         False   \n",
       "\n",
       "      TEMPERATURA DO PONTO DE ORVALHO (°C)  \\\n",
       "0                                    False   \n",
       "1                                    False   \n",
       "2                                    False   \n",
       "3                                    False   \n",
       "4                                    False   \n",
       "...                                    ...   \n",
       "8755                                 False   \n",
       "8756                                 False   \n",
       "8757                                 False   \n",
       "8758                                 False   \n",
       "8759                                 False   \n",
       "\n",
       "      TEMPERATURA MÁXIMA NA HORA ANT. (AUT) (°C)  \\\n",
       "0                                          False   \n",
       "1                                          False   \n",
       "2                                          False   \n",
       "3                                          False   \n",
       "4                                          False   \n",
       "...                                          ...   \n",
       "8755                                       False   \n",
       "8756                                       False   \n",
       "8757                                       False   \n",
       "8758                                       False   \n",
       "8759                                       False   \n",
       "\n",
       "      TEMPERATURA MÍNIMA NA HORA ANT. (AUT) (°C)  \\\n",
       "0                                          False   \n",
       "1                                          False   \n",
       "2                                          False   \n",
       "3                                          False   \n",
       "4                                          False   \n",
       "...                                          ...   \n",
       "8755                                       False   \n",
       "8756                                       False   \n",
       "8757                                       False   \n",
       "8758                                       False   \n",
       "8759                                       False   \n",
       "\n",
       "      TEMPERATURA ORVALHO MAX. NA HORA ANT. (AUT) (°C)  \\\n",
       "0                                                False   \n",
       "1                                                False   \n",
       "2                                                False   \n",
       "3                                                False   \n",
       "4                                                False   \n",
       "...                                                ...   \n",
       "8755                                             False   \n",
       "8756                                             False   \n",
       "8757                                             False   \n",
       "8758                                             False   \n",
       "8759                                             False   \n",
       "\n",
       "      TEMPERATURA ORVALHO MIN. NA HORA ANT. (AUT) (°C)  \\\n",
       "0                                                False   \n",
       "1                                                False   \n",
       "2                                                False   \n",
       "3                                                False   \n",
       "4                                                False   \n",
       "...                                                ...   \n",
       "8755                                             False   \n",
       "8756                                             False   \n",
       "8757                                             False   \n",
       "8758                                             False   \n",
       "8759                                             False   \n",
       "\n",
       "      UMIDADE REL. MAX. NA HORA ANT. (AUT) (%)  \\\n",
       "0                                        False   \n",
       "1                                        False   \n",
       "2                                        False   \n",
       "3                                        False   \n",
       "4                                        False   \n",
       "...                                        ...   \n",
       "8755                                     False   \n",
       "8756                                     False   \n",
       "8757                                     False   \n",
       "8758                                     False   \n",
       "8759                                     False   \n",
       "\n",
       "      UMIDADE REL. MIN. NA HORA ANT. (AUT) (%)  \\\n",
       "0                                        False   \n",
       "1                                        False   \n",
       "2                                        False   \n",
       "3                                        False   \n",
       "4                                        False   \n",
       "...                                        ...   \n",
       "8755                                     False   \n",
       "8756                                     False   \n",
       "8757                                     False   \n",
       "8758                                     False   \n",
       "8759                                     False   \n",
       "\n",
       "      UMIDADE RELATIVA DO AR, HORARIA (%)  \\\n",
       "0                                   False   \n",
       "1                                   False   \n",
       "2                                   False   \n",
       "3                                   False   \n",
       "4                                   False   \n",
       "...                                   ...   \n",
       "8755                                False   \n",
       "8756                                False   \n",
       "8757                                False   \n",
       "8758                                False   \n",
       "8759                                False   \n",
       "\n",
       "      VENTO, DIREÇÃO HORARIA (gr) (° (gr))  VENTO, RAJADA MAXIMA (m/s)  \\\n",
       "0                                    False                       False   \n",
       "1                                    False                       False   \n",
       "2                                    False                       False   \n",
       "3                                    False                       False   \n",
       "4                                    False                       False   \n",
       "...                                    ...                         ...   \n",
       "8755                                 False                       False   \n",
       "8756                                 False                       False   \n",
       "8757                                 False                       False   \n",
       "8758                                 False                       False   \n",
       "8759                                 False                       False   \n",
       "\n",
       "      VENTO, VELOCIDADE HORARIA (m/s)  Unnamed: 19  \n",
       "0                               False         True  \n",
       "1                               False         True  \n",
       "2                               False         True  \n",
       "3                               False         True  \n",
       "4                               False         True  \n",
       "...                               ...          ...  \n",
       "8755                            False         True  \n",
       "8756                            False         True  \n",
       "8757                            False         True  \n",
       "8758                            False         True  \n",
       "8759                            False         True  \n",
       "\n",
       "[8760 rows x 20 columns]"
      ]
     },
     "execution_count": 74,
     "metadata": {},
     "output_type": "execute_result"
    }
   ],
   "source": [
    "df.isnull()"
   ]
  },
  {
   "cell_type": "code",
   "execution_count": 70,
   "metadata": {},
   "outputs": [
    {
     "data": {
      "text/plain": [
       "Data                                                        0\n",
       "Hora UTC                                                    0\n",
       "PRECIPITAÇÃO TOTAL, HORÁRIO (mm)                            5\n",
       "PRESSAO ATMOSFERICA AO NIVEL DA ESTACAO, HORARIA (mB)       5\n",
       "PRESSÃO ATMOSFERICA MAX.NA HORA ANT. (AUT) (mB)            13\n",
       "PRESSÃO ATMOSFERICA MIN. NA HORA ANT. (AUT) (mB)           13\n",
       "RADIACAO GLOBAL (Kj/m²)                                  4087\n",
       "TEMPERATURA DO AR - BULBO SECO, HORARIA (°C)                5\n",
       "TEMPERATURA DO PONTO DE ORVALHO (°C)                        5\n",
       "TEMPERATURA MÁXIMA NA HORA ANT. (AUT) (°C)                 13\n",
       "TEMPERATURA MÍNIMA NA HORA ANT. (AUT) (°C)                 13\n",
       "TEMPERATURA ORVALHO MAX. NA HORA ANT. (AUT) (°C)           13\n",
       "TEMPERATURA ORVALHO MIN. NA HORA ANT. (AUT) (°C)           13\n",
       "UMIDADE REL. MAX. NA HORA ANT. (AUT) (%)                   13\n",
       "UMIDADE REL. MIN. NA HORA ANT. (AUT) (%)                   13\n",
       "UMIDADE RELATIVA DO AR, HORARIA (%)                         5\n",
       "VENTO, DIREÇÃO HORARIA (gr) (° (gr))                       12\n",
       "VENTO, RAJADA MAXIMA (m/s)                                 13\n",
       "VENTO, VELOCIDADE HORARIA (m/s)                            10\n",
       "Unnamed: 19                                              8760\n",
       "dtype: int64"
      ]
     },
     "execution_count": 70,
     "metadata": {},
     "output_type": "execute_result"
    }
   ],
   "source": [
    "df.isnull().sum()"
   ]
  },
  {
   "cell_type": "code",
   "execution_count": null,
   "metadata": {},
   "outputs": [],
   "source": [
    "remover = df.dropna(axis=0,how='all')\n",
    "remover"
   ]
  },
  {
   "cell_type": "code",
   "execution_count": 79,
   "metadata": {},
   "outputs": [
    {
     "data": {
      "text/html": [
       "<div>\n",
       "<style scoped>\n",
       "    .dataframe tbody tr th:only-of-type {\n",
       "        vertical-align: middle;\n",
       "    }\n",
       "\n",
       "    .dataframe tbody tr th {\n",
       "        vertical-align: top;\n",
       "    }\n",
       "\n",
       "    .dataframe thead th {\n",
       "        text-align: right;\n",
       "    }\n",
       "</style>\n",
       "<table border=\"1\" class=\"dataframe\">\n",
       "  <thead>\n",
       "    <tr style=\"text-align: right;\">\n",
       "      <th></th>\n",
       "      <th>Data</th>\n",
       "      <th>Hora UTC</th>\n",
       "      <th>PRECIPITAÇÃO TOTAL, HORÁRIO (mm)</th>\n",
       "      <th>PRESSAO ATMOSFERICA AO NIVEL DA ESTACAO, HORARIA (mB)</th>\n",
       "      <th>PRESSÃO ATMOSFERICA MAX.NA HORA ANT. (AUT) (mB)</th>\n",
       "      <th>PRESSÃO ATMOSFERICA MIN. NA HORA ANT. (AUT) (mB)</th>\n",
       "      <th>RADIACAO GLOBAL (Kj/m²)</th>\n",
       "      <th>TEMPERATURA DO AR - BULBO SECO, HORARIA (°C)</th>\n",
       "      <th>TEMPERATURA DO PONTO DE ORVALHO (°C)</th>\n",
       "      <th>TEMPERATURA MÁXIMA NA HORA ANT. (AUT) (°C)</th>\n",
       "      <th>TEMPERATURA MÍNIMA NA HORA ANT. (AUT) (°C)</th>\n",
       "      <th>TEMPERATURA ORVALHO MAX. NA HORA ANT. (AUT) (°C)</th>\n",
       "      <th>TEMPERATURA ORVALHO MIN. NA HORA ANT. (AUT) (°C)</th>\n",
       "      <th>UMIDADE REL. MAX. NA HORA ANT. (AUT) (%)</th>\n",
       "      <th>UMIDADE REL. MIN. NA HORA ANT. (AUT) (%)</th>\n",
       "      <th>UMIDADE RELATIVA DO AR, HORARIA (%)</th>\n",
       "      <th>VENTO, DIREÇÃO HORARIA (gr) (° (gr))</th>\n",
       "      <th>VENTO, RAJADA MAXIMA (m/s)</th>\n",
       "      <th>VENTO, VELOCIDADE HORARIA (m/s)</th>\n",
       "      <th>Unnamed: 19</th>\n",
       "    </tr>\n",
       "  </thead>\n",
       "  <tbody>\n",
       "    <tr>\n",
       "      <th>0</th>\n",
       "      <td>2023/01/01</td>\n",
       "      <td>0000 UTC</td>\n",
       "      <td>zero</td>\n",
       "      <td>887,7</td>\n",
       "      <td>887,7</td>\n",
       "      <td>887,2</td>\n",
       "      <td>NaN</td>\n",
       "      <td>20,1</td>\n",
       "      <td>17,9</td>\n",
       "      <td>20,9</td>\n",
       "      <td>20</td>\n",
       "      <td>19,2</td>\n",
       "      <td>17,8</td>\n",
       "      <td>91.0</td>\n",
       "      <td>87.0</td>\n",
       "      <td>87.0</td>\n",
       "      <td>187.0</td>\n",
       "      <td>3,3</td>\n",
       "      <td>1,2</td>\n",
       "      <td>NaN</td>\n",
       "    </tr>\n",
       "    <tr>\n",
       "      <th>1</th>\n",
       "      <td>2023/01/01</td>\n",
       "      <td>0100 UTC</td>\n",
       "      <td>zero</td>\n",
       "      <td>888,1</td>\n",
       "      <td>888,1</td>\n",
       "      <td>887,7</td>\n",
       "      <td>NaN</td>\n",
       "      <td>19,2</td>\n",
       "      <td>17,5</td>\n",
       "      <td>20,1</td>\n",
       "      <td>19,2</td>\n",
       "      <td>17,8</td>\n",
       "      <td>17,4</td>\n",
       "      <td>90.0</td>\n",
       "      <td>87.0</td>\n",
       "      <td>90.0</td>\n",
       "      <td>153.0</td>\n",
       "      <td>2,9</td>\n",
       "      <td>,8</td>\n",
       "      <td>NaN</td>\n",
       "    </tr>\n",
       "    <tr>\n",
       "      <th>2</th>\n",
       "      <td>2023/01/01</td>\n",
       "      <td>0200 UTC</td>\n",
       "      <td>zero</td>\n",
       "      <td>887,8</td>\n",
       "      <td>888,1</td>\n",
       "      <td>887,8</td>\n",
       "      <td>NaN</td>\n",
       "      <td>19,3</td>\n",
       "      <td>17,6</td>\n",
       "      <td>19,5</td>\n",
       "      <td>19</td>\n",
       "      <td>17,8</td>\n",
       "      <td>17,3</td>\n",
       "      <td>90.0</td>\n",
       "      <td>89.0</td>\n",
       "      <td>90.0</td>\n",
       "      <td>145.0</td>\n",
       "      <td>2,5</td>\n",
       "      <td>1,5</td>\n",
       "      <td>NaN</td>\n",
       "    </tr>\n",
       "    <tr>\n",
       "      <th>3</th>\n",
       "      <td>2023/01/01</td>\n",
       "      <td>0300 UTC</td>\n",
       "      <td>zero</td>\n",
       "      <td>887,8</td>\n",
       "      <td>887,9</td>\n",
       "      <td>887,7</td>\n",
       "      <td>NaN</td>\n",
       "      <td>19,3</td>\n",
       "      <td>17,7</td>\n",
       "      <td>19,4</td>\n",
       "      <td>19,1</td>\n",
       "      <td>17,8</td>\n",
       "      <td>17,5</td>\n",
       "      <td>91.0</td>\n",
       "      <td>90.0</td>\n",
       "      <td>91.0</td>\n",
       "      <td>162.0</td>\n",
       "      <td>3,2</td>\n",
       "      <td>1,4</td>\n",
       "      <td>NaN</td>\n",
       "    </tr>\n",
       "    <tr>\n",
       "      <th>4</th>\n",
       "      <td>2023/01/01</td>\n",
       "      <td>0400 UTC</td>\n",
       "      <td>zero</td>\n",
       "      <td>887,6</td>\n",
       "      <td>887,9</td>\n",
       "      <td>887,6</td>\n",
       "      <td>NaN</td>\n",
       "      <td>19,7</td>\n",
       "      <td>18,1</td>\n",
       "      <td>19,7</td>\n",
       "      <td>19,1</td>\n",
       "      <td>18,1</td>\n",
       "      <td>17,4</td>\n",
       "      <td>91.0</td>\n",
       "      <td>90.0</td>\n",
       "      <td>90.0</td>\n",
       "      <td>140.0</td>\n",
       "      <td>5,7</td>\n",
       "      <td>2,7</td>\n",
       "      <td>NaN</td>\n",
       "    </tr>\n",
       "  </tbody>\n",
       "</table>\n",
       "</div>"
      ],
      "text/plain": [
       "         Data  Hora UTC PRECIPITAÇÃO TOTAL, HORÁRIO (mm)  \\\n",
       "0  2023/01/01  0000 UTC                             zero   \n",
       "1  2023/01/01  0100 UTC                             zero   \n",
       "2  2023/01/01  0200 UTC                             zero   \n",
       "3  2023/01/01  0300 UTC                             zero   \n",
       "4  2023/01/01  0400 UTC                             zero   \n",
       "\n",
       "  PRESSAO ATMOSFERICA AO NIVEL DA ESTACAO, HORARIA (mB)  \\\n",
       "0                                              887,7      \n",
       "1                                              888,1      \n",
       "2                                              887,8      \n",
       "3                                              887,8      \n",
       "4                                              887,6      \n",
       "\n",
       "  PRESSÃO ATMOSFERICA MAX.NA HORA ANT. (AUT) (mB)  \\\n",
       "0                                           887,7   \n",
       "1                                           888,1   \n",
       "2                                           888,1   \n",
       "3                                           887,9   \n",
       "4                                           887,9   \n",
       "\n",
       "  PRESSÃO ATMOSFERICA MIN. NA HORA ANT. (AUT) (mB) RADIACAO GLOBAL (Kj/m²)  \\\n",
       "0                                            887,2                     NaN   \n",
       "1                                            887,7                     NaN   \n",
       "2                                            887,8                     NaN   \n",
       "3                                            887,7                     NaN   \n",
       "4                                            887,6                     NaN   \n",
       "\n",
       "  TEMPERATURA DO AR - BULBO SECO, HORARIA (°C)  \\\n",
       "0                                         20,1   \n",
       "1                                         19,2   \n",
       "2                                         19,3   \n",
       "3                                         19,3   \n",
       "4                                         19,7   \n",
       "\n",
       "  TEMPERATURA DO PONTO DE ORVALHO (°C)  \\\n",
       "0                                 17,9   \n",
       "1                                 17,5   \n",
       "2                                 17,6   \n",
       "3                                 17,7   \n",
       "4                                 18,1   \n",
       "\n",
       "  TEMPERATURA MÁXIMA NA HORA ANT. (AUT) (°C)  \\\n",
       "0                                       20,9   \n",
       "1                                       20,1   \n",
       "2                                       19,5   \n",
       "3                                       19,4   \n",
       "4                                       19,7   \n",
       "\n",
       "  TEMPERATURA MÍNIMA NA HORA ANT. (AUT) (°C)  \\\n",
       "0                                         20   \n",
       "1                                       19,2   \n",
       "2                                         19   \n",
       "3                                       19,1   \n",
       "4                                       19,1   \n",
       "\n",
       "  TEMPERATURA ORVALHO MAX. NA HORA ANT. (AUT) (°C)  \\\n",
       "0                                             19,2   \n",
       "1                                             17,8   \n",
       "2                                             17,8   \n",
       "3                                             17,8   \n",
       "4                                             18,1   \n",
       "\n",
       "  TEMPERATURA ORVALHO MIN. NA HORA ANT. (AUT) (°C)  \\\n",
       "0                                             17,8   \n",
       "1                                             17,4   \n",
       "2                                             17,3   \n",
       "3                                             17,5   \n",
       "4                                             17,4   \n",
       "\n",
       "   UMIDADE REL. MAX. NA HORA ANT. (AUT) (%)  \\\n",
       "0                                      91.0   \n",
       "1                                      90.0   \n",
       "2                                      90.0   \n",
       "3                                      91.0   \n",
       "4                                      91.0   \n",
       "\n",
       "   UMIDADE REL. MIN. NA HORA ANT. (AUT) (%)  \\\n",
       "0                                      87.0   \n",
       "1                                      87.0   \n",
       "2                                      89.0   \n",
       "3                                      90.0   \n",
       "4                                      90.0   \n",
       "\n",
       "   UMIDADE RELATIVA DO AR, HORARIA (%)  VENTO, DIREÇÃO HORARIA (gr) (° (gr))  \\\n",
       "0                                 87.0                                 187.0   \n",
       "1                                 90.0                                 153.0   \n",
       "2                                 90.0                                 145.0   \n",
       "3                                 91.0                                 162.0   \n",
       "4                                 90.0                                 140.0   \n",
       "\n",
       "  VENTO, RAJADA MAXIMA (m/s) VENTO, VELOCIDADE HORARIA (m/s)  Unnamed: 19  \n",
       "0                        3,3                             1,2          NaN  \n",
       "1                        2,9                              ,8          NaN  \n",
       "2                        2,5                             1,5          NaN  \n",
       "3                        3,2                             1,4          NaN  \n",
       "4                        5,7                             2,7          NaN  "
      ]
     },
     "execution_count": 79,
     "metadata": {},
     "output_type": "execute_result"
    }
   ],
   "source": [
    "\n",
    "df_substituido = df.replace('0','zero')\n",
    "df_substituido.head()"
   ]
  },
  {
   "cell_type": "code",
   "execution_count": 81,
   "metadata": {},
   "outputs": [],
   "source": [
    "df['Coluna1_normalizada'] = (df['UMIDADE RELATIVA DO AR, HORARIA (%)'] - df['UMIDADE RELATIVA DO AR, HORARIA (%)'].min()) / (df['UMIDADE RELATIVA DO AR, HORARIA (%)'].max() - df['UMIDADE RELATIVA DO AR, HORARIA (%)'].min())"
   ]
  },
  {
   "cell_type": "code",
   "execution_count": 82,
   "metadata": {},
   "outputs": [
    {
     "data": {
      "text/plain": [
       "0    0.864198\n",
       "1    0.901235\n",
       "2    0.901235\n",
       "3    0.913580\n",
       "4    0.901235\n",
       "5    0.925926\n",
       "6    0.925926\n",
       "7    0.938272\n",
       "8    0.925926\n",
       "Name: Coluna1_normalizada, dtype: float64"
      ]
     },
     "execution_count": 82,
     "metadata": {},
     "output_type": "execute_result"
    }
   ],
   "source": [
    "df['Coluna1_normalizada'].head(9)"
   ]
  },
  {
   "cell_type": "code",
   "execution_count": 83,
   "metadata": {},
   "outputs": [],
   "source": [
    "import matplotlib.pyplot as plt"
   ]
  },
  {
   "cell_type": "code",
   "execution_count": 84,
   "metadata": {},
   "outputs": [
    {
     "data": {
      "image/png": "[encoded data removed]",
      "text/plain": [
       "<Figure size 1200x600 with 1 Axes>"
      ]
     },
     "metadata": {},
     "output_type": "display_data"
    }
   ],
   "source": [
    "df_20 = df.head(20)\n",
    "plt.figure(figsize=(12, 6))\n",
    "plt.plot(df_20['Hora UTC'], df_20['UMIDADE RELATIVA DO AR, HORARIA (%)'], marker='o', linestyle='-', color='g')\n",
    "plt.xlabel('Hora UTC')\n",
    "plt.ylabel('Umidade (%)')\n",
    "plt.title('Umidade ao Longo do Tempo')\n",
    "plt.xticks(rotation=90)\n",
    "plt.tight_layout()\n",
    "plt.show()\n"
   ]
  },
  {
   "cell_type": "code",
   "execution_count": 85,
   "metadata": {},
   "outputs": [
    {
     "data": {
      "image/png": "[encoded data removed]",
      "text/plain": [
       "<Figure size 1200x600 with 1 Axes>"
      ]
     },
     "metadata": {},
     "output_type": "display_data"
    }
   ],
   "source": [
    "# Gráfico de Dispersão\n",
    "plt.figure(figsize=(12, 6))\n",
    "plt.scatter(df_20['TEMPERATURA DO AR - BULBO SECO, HORARIA (°C)'], df_20['UMIDADE RELATIVA DO AR, HORARIA (%)'], color='y')\n",
    "plt.xlabel('Temperatura (°C)')\n",
    "plt.ylabel('Umidade (%)')\n",
    "plt.title('Temperatura x Umidade')\n",
    "plt.tight_layout()\n",
    "plt.show()"
   ]
  },
  {
   "cell_type": "code",
   "execution_count": 86,
   "metadata": {},
   "outputs": [
    {
     "data": {
      "image/png": "[encoded data removed]",
      "text/plain": [
       "<Figure size 1200x600 with 1 Axes>"
      ]
     },
     "metadata": {},
     "output_type": "display_data"
    }
   ],
   "source": [
    "\n",
    "plt.figure(figsize=(12, 6))\n",
    "plt.bar(df_20['TEMPERATURA DO AR - BULBO SECO, HORARIA (°C)'], df_20['UMIDADE RELATIVA DO AR, HORARIA (%)'], color='y')\n",
    "plt.xlabel('Temperatura (°C)')\n",
    "plt.ylabel('Umidade (%)')\n",
    "plt.title('Temperatura x Umidade')\n",
    "plt.tight_layout()\n",
    "plt.show()"
   ]
  },
  {
   "cell_type": "code",
   "execution_count": 87,
   "metadata": {},
   "outputs": [
    {
     "data": {
      "image/png": "[encoded data removed]",
      "text/plain": [
       "<Figure size 1200x600 with 1 Axes>"
      ]
     },
     "metadata": {},
     "output_type": "display_data"
    }
   ],
   "source": [
    "plt.figure(figsize=(12, 6))\n",
    "plt.hist(df_20['TEMPERATURA DO AR - BULBO SECO, HORARIA (°C)'], bins=10, color='c')\n",
    "plt.xlabel('Temperatura (°C)')\n",
    "plt.ylabel('Frequência')\n",
    "plt.title('Histograma da Temperatura')\n",
    "plt.tight_layout()\n",
    "plt.show()"
   ]
  }
 ],
 "metadata": {
  "kernelspec": {
   "display_name": "Python 3",
   "language": "python",
   "name": "python3"
  },
  "language_info": {
   "codemirror_mode": {
    "name": "ipython",
    "version": 3
   },
   "file_extension": ".py",
   "mimetype": "text/x-python",
   "name": "python",
   "nbconvert_exporter": "python",
   "pygments_lexer": "ipython3",
   "version": "3.12.0"
  }
 },
 "nbformat": 4,
 "nbformat_minor": 2
}
