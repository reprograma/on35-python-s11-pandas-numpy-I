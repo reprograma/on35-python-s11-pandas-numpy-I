{
 "cells": [
  {
   "cell_type": "code",
   "execution_count": 2,
   "metadata": {},
   "outputs": [],
   "source": [
    "import pandas as pd\n",
    "df = pd.read_csv('BRASILIA_2023.csv', delimiter=';', skiprows=8,encoding='latin1')\n"
   ]
  },
  {
   "cell_type": "code",
   "execution_count": null,
   "metadata": {},
   "outputs": [],
   "source": [
    "df.head()"
   ]
  },
  {
   "cell_type": "code",
   "execution_count": 35,
   "metadata": {},
   "outputs": [],
   "source": [
    "df_reduzido = df[['Data', 'PRESSAO ATMOSFERICA AO NIVEL DA ESTACAO, HORARIA (mB)', 'VENTO, VELOCIDADE HORARIA (m/s)', 'TEMPERATURA DO PONTO DE ORVALHO (°C)','UMIDADE REL. MAX. NA HORA ANT. (AUT) (%)']]"
   ]
  },
  {
   "cell_type": "code",
   "execution_count": 36,
   "metadata": {},
   "outputs": [],
   "source": [
    "df_amostra = df_reduzido.head(20)"
   ]
  },
  {
   "cell_type": "code",
   "execution_count": null,
   "metadata": {},
   "outputs": [],
   "source": [
    "remover = df_amostra.dropna(axis=0,how='all')\n",
    "df_final = remover"
   ]
  },
  {
   "cell_type": "code",
   "execution_count": 27,
   "metadata": {},
   "outputs": [
    {
     "data": {
      "text/plain": [
       "Data                                                     0\n",
       "PRESSAO ATMOSFERICA AO NIVEL DA ESTACAO, HORARIA (mB)    0\n",
       "VENTO, VELOCIDADE HORARIA (m/s)                          0\n",
       "TEMPERATURA DO PONTO DE ORVALHO (°C)                     0\n",
       "UMIDADE REL. MAX. NA HORA ANT. (AUT) (%)                 0\n",
       "dtype: int64"
      ]
     },
     "execution_count": 27,
     "metadata": {},
     "output_type": "execute_result"
    }
   ],
   "source": [
    "remover.isnull().sum()"
   ]
  },
  {
   "cell_type": "code",
   "execution_count": null,
   "metadata": {},
   "outputs": [],
   "source": [
    "df_final['PRESSAO ATMOSFERICA AO NIVEL DA ESTACAO, HORARIA (mB)'] =  df_final['PRESSAO ATMOSFERICA AO NIVEL DA ESTACAO, HORARIA (mB)'] .replace(';', '.')\n",
    "df_amostra"
   ]
  }
 ],
 "metadata": {
  "kernelspec": {
   "display_name": "Python 3",
   "language": "python",
   "name": "python3"
  },
  "language_info": {
   "codemirror_mode": {
    "name": "ipython",
    "version": 3
   },
   "file_extension": ".py",
   "mimetype": "text/x-python",
   "name": "python",
   "nbconvert_exporter": "python",
   "pygments_lexer": "ipython3",
   "version": "3.12.0"
  }
 },
 "nbformat": 4,
 "nbformat_minor": 2
}
