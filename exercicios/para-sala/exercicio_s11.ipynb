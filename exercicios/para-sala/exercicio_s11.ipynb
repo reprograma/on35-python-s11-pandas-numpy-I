{
 "cells": [
  {
   "cell_type": "markdown",
   "metadata": {},
   "source": [
    "Exercicio de Sala\n",
    "\n",
    "### 1. `read_csv()`\n",
    "A função `read_csv()` é usada para ler um arquivo CSV e convertê-lo em um DataFrame do pandas.\n",
    "\n",
    "```python\n",
    "import pandas as pd\n",
    "\n",
    "# Lê o arquivo CSV e cria um DataFrame\n",
    "df = pd.read_csv('caminho/para/seu_arquivo.csv')\n",
    "```"
   ]
  },
  {
   "cell_type": "code",
   "execution_count": 1,
   "metadata": {},
   "outputs": [
    {
     "name": "stdout",
     "output_type": "stream",
     "text": [
      "Ola Mundo\n"
     ]
    }
   ],
   "source": [
    "print (\"Olá Mundo\")"
   ]
  },
  {
   "cell_type": "code",
   "execution_count": 7,
   "metadata": {},
   "outputs": [],
   "source": [
    "import pandas as pd\n",
    "df = pd.read_csv('ON35-S11-PLANILHA.CSV', delimiter=';', skiprows=8, encoding='latin1')"
   ]
  },
  {
   "cell_type": "markdown",
   "metadata": {},
   "source": [
    "### 2. `head()`\n",
    "Exibe as primeiras linhas do DataFrame. Por padrão, mostra as 5 primeiras linhas.\n",
    "pode também colocar só df...\n",
    "\n",
    "```python\n",
    "# Exibe as 5 primeiras linhas\n",
    "print(df.head())\n",
    "\n",
    "# Exibe as 10 primeiras linhas\n",
    "print(df.head(10))\n",
    "```"
   ]
  },
  {
   "cell_type": "code",
   "execution_count": 11,
   "metadata": {},
   "outputs": [
    {
     "data": {
      "text/html": [
       "<div>\n",
       "<style scoped>\n",
       "    .dataframe tbody tr th:only-of-type {\n",
       "        vertical-align: middle;\n",
       "    }\n",
       "\n",
       "    .dataframe tbody tr th {\n",
       "        vertical-align: top;\n",
       "    }\n",
       "\n",
       "    .dataframe thead th {\n",
       "        text-align: right;\n",
       "    }\n",
       "</style>\n",
       "<table border=\"1\" class=\"dataframe\">\n",
       "  <thead>\n",
       "    <tr style=\"text-align: right;\">\n",
       "      <th></th>\n",
       "      <th>Data</th>\n",
       "      <th>Hora UTC</th>\n",
       "      <th>PRECIPITAÇÃO TOTAL, HORÁRIO (mm)</th>\n",
       "      <th>PRESSAO ATMOSFERICA AO NIVEL DA ESTACAO, HORARIA (mB)</th>\n",
       "      <th>TEMPERATURA DO AR - BULBO SECO, HORARIA (°C)</th>\n",
       "      <th>UMIDADE REL. MAX. NA HORA ANT. (AUT) (%)</th>\n",
       "      <th>VENTO, DIREÇÃO HORARIA (gr) (° (gr))</th>\n",
       "      <th>VENTO, RAJADA MAXIMA (m/s)</th>\n",
       "      <th>VENTO, VELOCIDADE HORARIA (m/s)</th>\n",
       "    </tr>\n",
       "  </thead>\n",
       "  <tbody>\n",
       "    <tr>\n",
       "      <th>0</th>\n",
       "      <td>01/01/2020</td>\n",
       "      <td>0000 UTC</td>\n",
       "      <td>0</td>\n",
       "      <td>972,1</td>\n",
       "      <td>24,2</td>\n",
       "      <td>93.0</td>\n",
       "      <td>3.0</td>\n",
       "      <td>3,6</td>\n",
       "      <td>2,2</td>\n",
       "    </tr>\n",
       "    <tr>\n",
       "      <th>1</th>\n",
       "      <td>01/01/2020</td>\n",
       "      <td>0100 UTC</td>\n",
       "      <td>0</td>\n",
       "      <td>972,7</td>\n",
       "      <td>23,9</td>\n",
       "      <td>94.0</td>\n",
       "      <td>328.0</td>\n",
       "      <td>4,2</td>\n",
       "      <td>2</td>\n",
       "    </tr>\n",
       "    <tr>\n",
       "      <th>2</th>\n",
       "      <td>01/01/2020</td>\n",
       "      <td>0200 UTC</td>\n",
       "      <td>0</td>\n",
       "      <td>972,5</td>\n",
       "      <td>23,8</td>\n",
       "      <td>95.0</td>\n",
       "      <td>286.0</td>\n",
       "      <td>3,8</td>\n",
       "      <td>2,5</td>\n",
       "    </tr>\n",
       "    <tr>\n",
       "      <th>3</th>\n",
       "      <td>01/01/2020</td>\n",
       "      <td>0300 UTC</td>\n",
       "      <td>0</td>\n",
       "      <td>972</td>\n",
       "      <td>23,3</td>\n",
       "      <td>97.0</td>\n",
       "      <td>129.0</td>\n",
       "      <td>3,4</td>\n",
       "      <td>0,5</td>\n",
       "    </tr>\n",
       "    <tr>\n",
       "      <th>4</th>\n",
       "      <td>01/01/2020</td>\n",
       "      <td>0400 UTC</td>\n",
       "      <td>0</td>\n",
       "      <td>971,7</td>\n",
       "      <td>23,2</td>\n",
       "      <td>97.0</td>\n",
       "      <td>122.0</td>\n",
       "      <td>3,4</td>\n",
       "      <td>1,2</td>\n",
       "    </tr>\n",
       "    <tr>\n",
       "      <th>5</th>\n",
       "      <td>01/01/2020</td>\n",
       "      <td>0500 UTC</td>\n",
       "      <td>0</td>\n",
       "      <td>971,4</td>\n",
       "      <td>22,7</td>\n",
       "      <td>98.0</td>\n",
       "      <td>78.0</td>\n",
       "      <td>2,2</td>\n",
       "      <td>1</td>\n",
       "    </tr>\n",
       "    <tr>\n",
       "      <th>6</th>\n",
       "      <td>01/01/2020</td>\n",
       "      <td>0600 UTC</td>\n",
       "      <td>0</td>\n",
       "      <td>971</td>\n",
       "      <td>22,5</td>\n",
       "      <td>98.0</td>\n",
       "      <td>356.0</td>\n",
       "      <td>2,6</td>\n",
       "      <td>1,8</td>\n",
       "    </tr>\n",
       "    <tr>\n",
       "      <th>7</th>\n",
       "      <td>01/01/2020</td>\n",
       "      <td>0700 UTC</td>\n",
       "      <td>0</td>\n",
       "      <td>970,9</td>\n",
       "      <td>22,4</td>\n",
       "      <td>98.0</td>\n",
       "      <td>17.0</td>\n",
       "      <td>2,8</td>\n",
       "      <td>0,6</td>\n",
       "    </tr>\n",
       "    <tr>\n",
       "      <th>8</th>\n",
       "      <td>01/01/2020</td>\n",
       "      <td>0800 UTC</td>\n",
       "      <td>0</td>\n",
       "      <td>970,7</td>\n",
       "      <td>22,1</td>\n",
       "      <td>98.0</td>\n",
       "      <td>270.0</td>\n",
       "      <td>1,8</td>\n",
       "      <td>0,7</td>\n",
       "    </tr>\n",
       "    <tr>\n",
       "      <th>9</th>\n",
       "      <td>01/01/2020</td>\n",
       "      <td>0900 UTC</td>\n",
       "      <td>0</td>\n",
       "      <td>971,1</td>\n",
       "      <td>22</td>\n",
       "      <td>98.0</td>\n",
       "      <td>58.0</td>\n",
       "      <td>1,9</td>\n",
       "      <td>1,3</td>\n",
       "    </tr>\n",
       "  </tbody>\n",
       "</table>\n",
       "</div>"
      ],
      "text/plain": [
       "         Data  Hora UTC PRECIPITAÇÃO TOTAL, HORÁRIO (mm)  \\\n",
       "0  01/01/2020  0000 UTC                                0   \n",
       "1  01/01/2020  0100 UTC                                0   \n",
       "2  01/01/2020  0200 UTC                                0   \n",
       "3  01/01/2020  0300 UTC                                0   \n",
       "4  01/01/2020  0400 UTC                                0   \n",
       "5  01/01/2020  0500 UTC                                0   \n",
       "6  01/01/2020  0600 UTC                                0   \n",
       "7  01/01/2020  0700 UTC                                0   \n",
       "8  01/01/2020  0800 UTC                                0   \n",
       "9  01/01/2020  0900 UTC                                0   \n",
       "\n",
       "  PRESSAO ATMOSFERICA AO NIVEL DA ESTACAO, HORARIA (mB)  \\\n",
       "0                                              972,1      \n",
       "1                                              972,7      \n",
       "2                                              972,5      \n",
       "3                                                972      \n",
       "4                                              971,7      \n",
       "5                                              971,4      \n",
       "6                                                971      \n",
       "7                                              970,9      \n",
       "8                                              970,7      \n",
       "9                                              971,1      \n",
       "\n",
       "  TEMPERATURA DO AR - BULBO SECO, HORARIA (°C)  \\\n",
       "0                                         24,2   \n",
       "1                                         23,9   \n",
       "2                                         23,8   \n",
       "3                                         23,3   \n",
       "4                                         23,2   \n",
       "5                                         22,7   \n",
       "6                                         22,5   \n",
       "7                                         22,4   \n",
       "8                                         22,1   \n",
       "9                                           22   \n",
       "\n",
       "   UMIDADE REL. MAX. NA HORA ANT. (AUT) (%)  \\\n",
       "0                                      93.0   \n",
       "1                                      94.0   \n",
       "2                                      95.0   \n",
       "3                                      97.0   \n",
       "4                                      97.0   \n",
       "5                                      98.0   \n",
       "6                                      98.0   \n",
       "7                                      98.0   \n",
       "8                                      98.0   \n",
       "9                                      98.0   \n",
       "\n",
       "   VENTO, DIREÇÃO HORARIA (gr) (° (gr)) VENTO, RAJADA MAXIMA (m/s)  \\\n",
       "0                                   3.0                        3,6   \n",
       "1                                 328.0                        4,2   \n",
       "2                                 286.0                        3,8   \n",
       "3                                 129.0                        3,4   \n",
       "4                                 122.0                        3,4   \n",
       "5                                  78.0                        2,2   \n",
       "6                                 356.0                        2,6   \n",
       "7                                  17.0                        2,8   \n",
       "8                                 270.0                        1,8   \n",
       "9                                  58.0                        1,9   \n",
       "\n",
       "  VENTO, VELOCIDADE HORARIA (m/s)  \n",
       "0                             2,2  \n",
       "1                               2  \n",
       "2                             2,5  \n",
       "3                             0,5  \n",
       "4                             1,2  \n",
       "5                               1  \n",
       "6                             1,8  \n",
       "7                             0,6  \n",
       "8                             0,7  \n",
       "9                             1,3  "
      ]
     },
     "execution_count": 11,
     "metadata": {},
     "output_type": "execute_result"
    }
   ],
   "source": [
    "df.head(10)"
   ]
  },
  {
   "cell_type": "markdown",
   "metadata": {},
   "source": [
    "### 3. `tail()`\n",
    "Exibe as últimas linhas do DataFrame. Por padrão, mostra as 5 últimas linhas.\n",
    "\n",
    "```python\n",
    "# Exibe as 5 últimas linhas\n",
    "print(df.tail())\n",
    "\n",
    "# Exibe as 10 últimas linhas\n",
    "print(df.tail(10))\n",
    "```"
   ]
  },
  {
   "cell_type": "code",
   "execution_count": 12,
   "metadata": {},
   "outputs": [
    {
     "data": {
      "text/html": [
       "<div>\n",
       "<style scoped>\n",
       "    .dataframe tbody tr th:only-of-type {\n",
       "        vertical-align: middle;\n",
       "    }\n",
       "\n",
       "    .dataframe tbody tr th {\n",
       "        vertical-align: top;\n",
       "    }\n",
       "\n",
       "    .dataframe thead th {\n",
       "        text-align: right;\n",
       "    }\n",
       "</style>\n",
       "<table border=\"1\" class=\"dataframe\">\n",
       "  <thead>\n",
       "    <tr style=\"text-align: right;\">\n",
       "      <th></th>\n",
       "      <th>Data</th>\n",
       "      <th>Hora UTC</th>\n",
       "      <th>PRECIPITAÇÃO TOTAL, HORÁRIO (mm)</th>\n",
       "      <th>PRESSAO ATMOSFERICA AO NIVEL DA ESTACAO, HORARIA (mB)</th>\n",
       "      <th>TEMPERATURA DO AR - BULBO SECO, HORARIA (°C)</th>\n",
       "      <th>UMIDADE REL. MAX. NA HORA ANT. (AUT) (%)</th>\n",
       "      <th>VENTO, DIREÇÃO HORARIA (gr) (° (gr))</th>\n",
       "      <th>VENTO, RAJADA MAXIMA (m/s)</th>\n",
       "      <th>VENTO, VELOCIDADE HORARIA (m/s)</th>\n",
       "    </tr>\n",
       "  </thead>\n",
       "  <tbody>\n",
       "    <tr>\n",
       "      <th>8774</th>\n",
       "      <td>31/12/2020</td>\n",
       "      <td>1400 UTC</td>\n",
       "      <td>0</td>\n",
       "      <td>974,9</td>\n",
       "      <td>31,7</td>\n",
       "      <td>64.0</td>\n",
       "      <td>325.0</td>\n",
       "      <td>8,5</td>\n",
       "      <td>5,1</td>\n",
       "    </tr>\n",
       "    <tr>\n",
       "      <th>8775</th>\n",
       "      <td>31/12/2020</td>\n",
       "      <td>1500 UTC</td>\n",
       "      <td>0</td>\n",
       "      <td>974,8</td>\n",
       "      <td>31,4</td>\n",
       "      <td>55.0</td>\n",
       "      <td>300.0</td>\n",
       "      <td>9,9</td>\n",
       "      <td>5,6</td>\n",
       "    </tr>\n",
       "    <tr>\n",
       "      <th>8776</th>\n",
       "      <td>31/12/2020</td>\n",
       "      <td>1600 UTC</td>\n",
       "      <td>0</td>\n",
       "      <td>974,5</td>\n",
       "      <td>30,8</td>\n",
       "      <td>60.0</td>\n",
       "      <td>281.0</td>\n",
       "      <td>8,1</td>\n",
       "      <td>4,5</td>\n",
       "    </tr>\n",
       "    <tr>\n",
       "      <th>8777</th>\n",
       "      <td>31/12/2020</td>\n",
       "      <td>1700 UTC</td>\n",
       "      <td>0</td>\n",
       "      <td>973,8</td>\n",
       "      <td>31,2</td>\n",
       "      <td>59.0</td>\n",
       "      <td>272.0</td>\n",
       "      <td>8,1</td>\n",
       "      <td>5,6</td>\n",
       "    </tr>\n",
       "    <tr>\n",
       "      <th>8778</th>\n",
       "      <td>31/12/2020</td>\n",
       "      <td>1800 UTC</td>\n",
       "      <td>0</td>\n",
       "      <td>973,6</td>\n",
       "      <td>27,7</td>\n",
       "      <td>72.0</td>\n",
       "      <td>312.0</td>\n",
       "      <td>8,7</td>\n",
       "      <td>1,8</td>\n",
       "    </tr>\n",
       "    <tr>\n",
       "      <th>8779</th>\n",
       "      <td>31/12/2020</td>\n",
       "      <td>1900 UTC</td>\n",
       "      <td>0</td>\n",
       "      <td>973,5</td>\n",
       "      <td>28,9</td>\n",
       "      <td>72.0</td>\n",
       "      <td>235.0</td>\n",
       "      <td>10,3</td>\n",
       "      <td>5,2</td>\n",
       "    </tr>\n",
       "    <tr>\n",
       "      <th>8780</th>\n",
       "      <td>31/12/2020</td>\n",
       "      <td>2000 UTC</td>\n",
       "      <td>0</td>\n",
       "      <td>973,3</td>\n",
       "      <td>27,2</td>\n",
       "      <td>76.0</td>\n",
       "      <td>230.0</td>\n",
       "      <td>7,5</td>\n",
       "      <td>4,7</td>\n",
       "    </tr>\n",
       "    <tr>\n",
       "      <th>8781</th>\n",
       "      <td>31/12/2020</td>\n",
       "      <td>2100 UTC</td>\n",
       "      <td>0</td>\n",
       "      <td>972,6</td>\n",
       "      <td>26,3</td>\n",
       "      <td>84.0</td>\n",
       "      <td>342.0</td>\n",
       "      <td>7,5</td>\n",
       "      <td>3,7</td>\n",
       "    </tr>\n",
       "    <tr>\n",
       "      <th>8782</th>\n",
       "      <td>31/12/2020</td>\n",
       "      <td>2200 UTC</td>\n",
       "      <td>0</td>\n",
       "      <td>973</td>\n",
       "      <td>24,9</td>\n",
       "      <td>90.0</td>\n",
       "      <td>359.0</td>\n",
       "      <td>6,8</td>\n",
       "      <td>3,5</td>\n",
       "    </tr>\n",
       "    <tr>\n",
       "      <th>8783</th>\n",
       "      <td>31/12/2020</td>\n",
       "      <td>2300 UTC</td>\n",
       "      <td>0</td>\n",
       "      <td>974</td>\n",
       "      <td>23,6</td>\n",
       "      <td>93.0</td>\n",
       "      <td>123.0</td>\n",
       "      <td>6,5</td>\n",
       "      <td>1,7</td>\n",
       "    </tr>\n",
       "  </tbody>\n",
       "</table>\n",
       "</div>"
      ],
      "text/plain": [
       "            Data  Hora UTC PRECIPITAÇÃO TOTAL, HORÁRIO (mm)  \\\n",
       "8774  31/12/2020  1400 UTC                                0   \n",
       "8775  31/12/2020  1500 UTC                                0   \n",
       "8776  31/12/2020  1600 UTC                                0   \n",
       "8777  31/12/2020  1700 UTC                                0   \n",
       "8778  31/12/2020  1800 UTC                                0   \n",
       "8779  31/12/2020  1900 UTC                                0   \n",
       "8780  31/12/2020  2000 UTC                                0   \n",
       "8781  31/12/2020  2100 UTC                                0   \n",
       "8782  31/12/2020  2200 UTC                                0   \n",
       "8783  31/12/2020  2300 UTC                                0   \n",
       "\n",
       "     PRESSAO ATMOSFERICA AO NIVEL DA ESTACAO, HORARIA (mB)  \\\n",
       "8774                                              974,9      \n",
       "8775                                              974,8      \n",
       "8776                                              974,5      \n",
       "8777                                              973,8      \n",
       "8778                                              973,6      \n",
       "8779                                              973,5      \n",
       "8780                                              973,3      \n",
       "8781                                              972,6      \n",
       "8782                                                973      \n",
       "8783                                                974      \n",
       "\n",
       "     TEMPERATURA DO AR - BULBO SECO, HORARIA (°C)  \\\n",
       "8774                                         31,7   \n",
       "8775                                         31,4   \n",
       "8776                                         30,8   \n",
       "8777                                         31,2   \n",
       "8778                                         27,7   \n",
       "8779                                         28,9   \n",
       "8780                                         27,2   \n",
       "8781                                         26,3   \n",
       "8782                                         24,9   \n",
       "8783                                         23,6   \n",
       "\n",
       "      UMIDADE REL. MAX. NA HORA ANT. (AUT) (%)  \\\n",
       "8774                                      64.0   \n",
       "8775                                      55.0   \n",
       "8776                                      60.0   \n",
       "8777                                      59.0   \n",
       "8778                                      72.0   \n",
       "8779                                      72.0   \n",
       "8780                                      76.0   \n",
       "8781                                      84.0   \n",
       "8782                                      90.0   \n",
       "8783                                      93.0   \n",
       "\n",
       "      VENTO, DIREÇÃO HORARIA (gr) (° (gr)) VENTO, RAJADA MAXIMA (m/s)  \\\n",
       "8774                                 325.0                        8,5   \n",
       "8775                                 300.0                        9,9   \n",
       "8776                                 281.0                        8,1   \n",
       "8777                                 272.0                        8,1   \n",
       "8778                                 312.0                        8,7   \n",
       "8779                                 235.0                       10,3   \n",
       "8780                                 230.0                        7,5   \n",
       "8781                                 342.0                        7,5   \n",
       "8782                                 359.0                        6,8   \n",
       "8783                                 123.0                        6,5   \n",
       "\n",
       "     VENTO, VELOCIDADE HORARIA (m/s)  \n",
       "8774                             5,1  \n",
       "8775                             5,6  \n",
       "8776                             4,5  \n",
       "8777                             5,6  \n",
       "8778                             1,8  \n",
       "8779                             5,2  \n",
       "8780                             4,7  \n",
       "8781                             3,7  \n",
       "8782                             3,5  \n",
       "8783                             1,7  "
      ]
     },
     "execution_count": 12,
     "metadata": {},
     "output_type": "execute_result"
    }
   ],
   "source": [
    "df.tail(10)"
   ]
  },
  {
   "cell_type": "markdown",
   "metadata": {},
   "source": [
    "## 4. `shape`\n",
    "Retorna a quantidade de linhas e colunas do DataFrame em formato de tupla `(linhas, colunas)`.\n",
    "Shapes: atributos\n",
    "\n",
    "```python\n",
    "# Exibe o formato do DataFrame\n",
    "print(df.shape)\n",
    "```"
   ]
  },
  {
   "cell_type": "code",
   "execution_count": 13,
   "metadata": {},
   "outputs": [
    {
     "data": {
      "text/plain": [
       "(8784, 9)"
      ]
     },
     "execution_count": 13,
     "metadata": {},
     "output_type": "execute_result"
    }
   ],
   "source": [
    "df.shape"
   ]
  },
  {
   "cell_type": "markdown",
   "metadata": {},
   "source": [
    "### 5. `describe()`\n",
    "Gera estatísticas descritivas para colunas numéricas, como contagem, média, desvio padrão, valores mínimo e máximo, e quartis.\n",
    "\n",
    "```python\n",
    "# Exibe estatísticas descritivas\n",
    "print(df.describe())\n",
    "```"
   ]
  },
  {
   "cell_type": "code",
   "execution_count": 14,
   "metadata": {},
   "outputs": [
    {
     "data": {
      "text/html": [
       "<div>\n",
       "<style scoped>\n",
       "    .dataframe tbody tr th:only-of-type {\n",
       "        vertical-align: middle;\n",
       "    }\n",
       "\n",
       "    .dataframe tbody tr th {\n",
       "        vertical-align: top;\n",
       "    }\n",
       "\n",
       "    .dataframe thead th {\n",
       "        text-align: right;\n",
       "    }\n",
       "</style>\n",
       "<table border=\"1\" class=\"dataframe\">\n",
       "  <thead>\n",
       "    <tr style=\"text-align: right;\">\n",
       "      <th></th>\n",
       "      <th>UMIDADE REL. MAX. NA HORA ANT. (AUT) (%)</th>\n",
       "      <th>VENTO, DIREÇÃO HORARIA (gr) (° (gr))</th>\n",
       "    </tr>\n",
       "  </thead>\n",
       "  <tbody>\n",
       "    <tr>\n",
       "      <th>count</th>\n",
       "      <td>8781.000000</td>\n",
       "      <td>8782.000000</td>\n",
       "    </tr>\n",
       "    <tr>\n",
       "      <th>mean</th>\n",
       "      <td>74.357932</td>\n",
       "      <td>169.236506</td>\n",
       "    </tr>\n",
       "    <tr>\n",
       "      <th>std</th>\n",
       "      <td>19.362176</td>\n",
       "      <td>117.659771</td>\n",
       "    </tr>\n",
       "    <tr>\n",
       "      <th>min</th>\n",
       "      <td>19.000000</td>\n",
       "      <td>1.000000</td>\n",
       "    </tr>\n",
       "    <tr>\n",
       "      <th>25%</th>\n",
       "      <td>60.000000</td>\n",
       "      <td>45.000000</td>\n",
       "    </tr>\n",
       "    <tr>\n",
       "      <th>50%</th>\n",
       "      <td>79.000000</td>\n",
       "      <td>187.000000</td>\n",
       "    </tr>\n",
       "    <tr>\n",
       "      <th>75%</th>\n",
       "      <td>91.000000</td>\n",
       "      <td>266.000000</td>\n",
       "    </tr>\n",
       "    <tr>\n",
       "      <th>max</th>\n",
       "      <td>99.000000</td>\n",
       "      <td>360.000000</td>\n",
       "    </tr>\n",
       "  </tbody>\n",
       "</table>\n",
       "</div>"
      ],
      "text/plain": [
       "       UMIDADE REL. MAX. NA HORA ANT. (AUT) (%)  \\\n",
       "count                               8781.000000   \n",
       "mean                                  74.357932   \n",
       "std                                   19.362176   \n",
       "min                                   19.000000   \n",
       "25%                                   60.000000   \n",
       "50%                                   79.000000   \n",
       "75%                                   91.000000   \n",
       "max                                   99.000000   \n",
       "\n",
       "       VENTO, DIREÇÃO HORARIA (gr) (° (gr))  \n",
       "count                           8782.000000  \n",
       "mean                             169.236506  \n",
       "std                              117.659771  \n",
       "min                                1.000000  \n",
       "25%                               45.000000  \n",
       "50%                              187.000000  \n",
       "75%                              266.000000  \n",
       "max                              360.000000  "
      ]
     },
     "execution_count": 14,
     "metadata": {},
     "output_type": "execute_result"
    }
   ],
   "source": [
    "df.describe ()"
   ]
  },
  {
   "cell_type": "markdown",
   "metadata": {},
   "source": [
    "### 6. `dtypes`\n",
    "Retorna os tipos de dados de cada coluna no DataFrame.\n",
    "\n",
    "```python\n",
    "# Exibe os tipos de dados das colunas\n",
    "print(df.dtypes)\n",
    "```"
   ]
  },
  {
   "cell_type": "code",
   "execution_count": 16,
   "metadata": {},
   "outputs": [
    {
     "data": {
      "text/plain": [
       "Data                                                      object\n",
       "Hora UTC                                                  object\n",
       "PRECIPITAÇÃO TOTAL, HORÁRIO (mm)                          object\n",
       "PRESSAO ATMOSFERICA AO NIVEL DA ESTACAO, HORARIA (mB)     object\n",
       "TEMPERATURA DO AR - BULBO SECO, HORARIA (°C)              object\n",
       "UMIDADE REL. MAX. NA HORA ANT. (AUT) (%)                 float64\n",
       "VENTO, DIREÇÃO HORARIA (gr) (° (gr))                     float64\n",
       "VENTO, RAJADA MAXIMA (m/s)                                object\n",
       "VENTO, VELOCIDADE HORARIA (m/s)                           object\n",
       "dtype: object"
      ]
     },
     "execution_count": 16,
     "metadata": {},
     "output_type": "execute_result"
    }
   ],
   "source": [
    "df.dtypes"
   ]
  },
  {
   "cell_type": "markdown",
   "metadata": {},
   "source": [
    "### 7. `sample()` e `reset_index()`\n",
    "- `sample()`: Seleciona uma amostra aleatória de linhas do DataFrame.\n",
    "- `reset_index()`: Reseta o índice do DataFrame, útil após filtragens ou amostragens.\n",
    "\n",
    "```python\n",
    "# Seleciona 5 linhas aleatórias\n",
    "amostra = df.sample(n=5)\n",
    "\n",
    "# Reseta o índice do DataFrame amostrado\n",
    "amostra_resetada = amostra.reset_index(drop=True)\n",
    "\n",
    "print(amostra_resetada)\n",
    "```"
   ]
  },
  {
   "cell_type": "code",
   "execution_count": 17,
   "metadata": {},
   "outputs": [
    {
     "data": {
      "text/html": [
       "<div>\n",
       "<style scoped>\n",
       "    .dataframe tbody tr th:only-of-type {\n",
       "        vertical-align: middle;\n",
       "    }\n",
       "\n",
       "    .dataframe tbody tr th {\n",
       "        vertical-align: top;\n",
       "    }\n",
       "\n",
       "    .dataframe thead th {\n",
       "        text-align: right;\n",
       "    }\n",
       "</style>\n",
       "<table border=\"1\" class=\"dataframe\">\n",
       "  <thead>\n",
       "    <tr style=\"text-align: right;\">\n",
       "      <th></th>\n",
       "      <th>Data</th>\n",
       "      <th>Hora UTC</th>\n",
       "      <th>PRECIPITAÇÃO TOTAL, HORÁRIO (mm)</th>\n",
       "      <th>PRESSAO ATMOSFERICA AO NIVEL DA ESTACAO, HORARIA (mB)</th>\n",
       "      <th>TEMPERATURA DO AR - BULBO SECO, HORARIA (°C)</th>\n",
       "      <th>UMIDADE REL. MAX. NA HORA ANT. (AUT) (%)</th>\n",
       "      <th>VENTO, DIREÇÃO HORARIA (gr) (° (gr))</th>\n",
       "      <th>VENTO, RAJADA MAXIMA (m/s)</th>\n",
       "      <th>VENTO, VELOCIDADE HORARIA (m/s)</th>\n",
       "    </tr>\n",
       "  </thead>\n",
       "  <tbody>\n",
       "    <tr>\n",
       "      <th>4402</th>\n",
       "      <td>02/07/2020</td>\n",
       "      <td>1000 UTC</td>\n",
       "      <td>0</td>\n",
       "      <td>979,3</td>\n",
       "      <td>9</td>\n",
       "      <td>93.0</td>\n",
       "      <td>194.0</td>\n",
       "      <td>3,3</td>\n",
       "      <td>2</td>\n",
       "    </tr>\n",
       "    <tr>\n",
       "      <th>4899</th>\n",
       "      <td>23/07/2020</td>\n",
       "      <td>0300 UTC</td>\n",
       "      <td>0</td>\n",
       "      <td>975,7</td>\n",
       "      <td>15</td>\n",
       "      <td>75.0</td>\n",
       "      <td>2.0</td>\n",
       "      <td>2,5</td>\n",
       "      <td>1,3</td>\n",
       "    </tr>\n",
       "    <tr>\n",
       "      <th>8046</th>\n",
       "      <td>01/12/2020</td>\n",
       "      <td>0600 UTC</td>\n",
       "      <td>0</td>\n",
       "      <td>972,4</td>\n",
       "      <td>22,8</td>\n",
       "      <td>97.0</td>\n",
       "      <td>331.0</td>\n",
       "      <td>2,3</td>\n",
       "      <td>0,4</td>\n",
       "    </tr>\n",
       "    <tr>\n",
       "      <th>3097</th>\n",
       "      <td>09/05/2020</td>\n",
       "      <td>0100 UTC</td>\n",
       "      <td>0</td>\n",
       "      <td>980,6</td>\n",
       "      <td>13,6</td>\n",
       "      <td>87.0</td>\n",
       "      <td>66.0</td>\n",
       "      <td>1,8</td>\n",
       "      <td>1,4</td>\n",
       "    </tr>\n",
       "    <tr>\n",
       "      <th>5816</th>\n",
       "      <td>30/08/2020</td>\n",
       "      <td>0800 UTC</td>\n",
       "      <td>0</td>\n",
       "      <td>972,3</td>\n",
       "      <td>15</td>\n",
       "      <td>81.0</td>\n",
       "      <td>201.0</td>\n",
       "      <td>4</td>\n",
       "      <td>1,6</td>\n",
       "    </tr>\n",
       "  </tbody>\n",
       "</table>\n",
       "</div>"
      ],
      "text/plain": [
       "            Data  Hora UTC PRECIPITAÇÃO TOTAL, HORÁRIO (mm)  \\\n",
       "4402  02/07/2020  1000 UTC                                0   \n",
       "4899  23/07/2020  0300 UTC                                0   \n",
       "8046  01/12/2020  0600 UTC                                0   \n",
       "3097  09/05/2020  0100 UTC                                0   \n",
       "5816  30/08/2020  0800 UTC                                0   \n",
       "\n",
       "     PRESSAO ATMOSFERICA AO NIVEL DA ESTACAO, HORARIA (mB)  \\\n",
       "4402                                              979,3      \n",
       "4899                                              975,7      \n",
       "8046                                              972,4      \n",
       "3097                                              980,6      \n",
       "5816                                              972,3      \n",
       "\n",
       "     TEMPERATURA DO AR - BULBO SECO, HORARIA (°C)  \\\n",
       "4402                                            9   \n",
       "4899                                           15   \n",
       "8046                                         22,8   \n",
       "3097                                         13,6   \n",
       "5816                                           15   \n",
       "\n",
       "      UMIDADE REL. MAX. NA HORA ANT. (AUT) (%)  \\\n",
       "4402                                      93.0   \n",
       "4899                                      75.0   \n",
       "8046                                      97.0   \n",
       "3097                                      87.0   \n",
       "5816                                      81.0   \n",
       "\n",
       "      VENTO, DIREÇÃO HORARIA (gr) (° (gr)) VENTO, RAJADA MAXIMA (m/s)  \\\n",
       "4402                                 194.0                        3,3   \n",
       "4899                                   2.0                        2,5   \n",
       "8046                                 331.0                        2,3   \n",
       "3097                                  66.0                        1,8   \n",
       "5816                                 201.0                          4   \n",
       "\n",
       "     VENTO, VELOCIDADE HORARIA (m/s)  \n",
       "4402                               2  \n",
       "4899                             1,3  \n",
       "8046                             0,4  \n",
       "3097                             1,4  \n",
       "5816                             1,6  "
      ]
     },
     "execution_count": 17,
     "metadata": {},
     "output_type": "execute_result"
    }
   ],
   "source": [
    "df.sample(n=5)"
   ]
  },
  {
   "cell_type": "markdown",
   "metadata": {},
   "source": [
    "### 8. Reduzir o DataFrame\n",
    "Selecionar um subconjunto de colunas e/ou linhas.\n",
    "\n",
    "```python\n",
    "# Selecionar 3 colunas específicas \n",
    "# df_reduzido é o nome da variável\n",
    "df_reduzido = df[['Coluna1', 'Coluna2', 'Coluna3']]\n",
    "\n",
    "# Para mostrar/visualizar \n",
    "df_reduzido.head()\n",
    "\n",
    "# Selecionar 1000 linhas aleatórias\n",
    "df_reduzido = df_reduzido.sample(n=1000, random_state=42)\n",
    "```"
   ]
  },
  {
   "cell_type": "code",
   "execution_count": 25,
   "metadata": {},
   "outputs": [],
   "source": [
    "df_reduzido = df[['Data', 'PRECIPITAÇÃO TOTAL, HORÁRIO (mm)']]"
   ]
  },
  {
   "cell_type": "code",
   "execution_count": 26,
   "metadata": {},
   "outputs": [
    {
     "data": {
      "text/html": [
       "<div>\n",
       "<style scoped>\n",
       "    .dataframe tbody tr th:only-of-type {\n",
       "        vertical-align: middle;\n",
       "    }\n",
       "\n",
       "    .dataframe tbody tr th {\n",
       "        vertical-align: top;\n",
       "    }\n",
       "\n",
       "    .dataframe thead th {\n",
       "        text-align: right;\n",
       "    }\n",
       "</style>\n",
       "<table border=\"1\" class=\"dataframe\">\n",
       "  <thead>\n",
       "    <tr style=\"text-align: right;\">\n",
       "      <th></th>\n",
       "      <th>Data</th>\n",
       "      <th>PRECIPITAÇÃO TOTAL, HORÁRIO (mm)</th>\n",
       "    </tr>\n",
       "  </thead>\n",
       "  <tbody>\n",
       "    <tr>\n",
       "      <th>0</th>\n",
       "      <td>01/01/2020</td>\n",
       "      <td>0</td>\n",
       "    </tr>\n",
       "    <tr>\n",
       "      <th>1</th>\n",
       "      <td>01/01/2020</td>\n",
       "      <td>0</td>\n",
       "    </tr>\n",
       "    <tr>\n",
       "      <th>2</th>\n",
       "      <td>01/01/2020</td>\n",
       "      <td>0</td>\n",
       "    </tr>\n",
       "    <tr>\n",
       "      <th>3</th>\n",
       "      <td>01/01/2020</td>\n",
       "      <td>0</td>\n",
       "    </tr>\n",
       "    <tr>\n",
       "      <th>4</th>\n",
       "      <td>01/01/2020</td>\n",
       "      <td>0</td>\n",
       "    </tr>\n",
       "  </tbody>\n",
       "</table>\n",
       "</div>"
      ],
      "text/plain": [
       "         Data PRECIPITAÇÃO TOTAL, HORÁRIO (mm)\n",
       "0  01/01/2020                                0\n",
       "1  01/01/2020                                0\n",
       "2  01/01/2020                                0\n",
       "3  01/01/2020                                0\n",
       "4  01/01/2020                                0"
      ]
     },
     "execution_count": 26,
     "metadata": {},
     "output_type": "execute_result"
    }
   ],
   "source": [
    "df_reduzido.head()"
   ]
  },
  {
   "cell_type": "markdown",
   "metadata": {},
   "source": [
    "### 9. `columns`\n",
    "Exibe ou altera os nomes das colunas.\n",
    "\n",
    "```python\n",
    "# Exibe os nomes das colunas\n",
    "print(df.columns)\n",
    "\n",
    "# Altera os nomes das colunas\n",
    "df.columns = ['NovoNome1', 'NovoNome2', 'NovoNome3']\n",
    "```"
   ]
  },
  {
   "cell_type": "code",
   "execution_count": null,
   "metadata": {},
   "outputs": [],
   "source": []
  },
  {
   "cell_type": "markdown",
   "metadata": {},
   "source": [
    "### 10. Selecionar uma coluna\n",
    "Você pode selecionar uma coluna específica utilizando a notação de colchetes.\n",
    "\n",
    "coluna_temperatura = df['Nome da coluna que tem no CSV (°C)']\n",
    "\n",
    "\n",
    "```python\n",
    "# Seleciona a coluna 'Coluna1'\n",
    "coluna1 = df['Coluna1']\n",
    "print(coluna1)\n",
    "```"
   ]
  },
  {
   "cell_type": "code",
   "execution_count": 44,
   "metadata": {},
   "outputs": [
    {
     "name": "stdout",
     "output_type": "stream",
     "text": [
      "0       93.0\n",
      "1       94.0\n",
      "2       95.0\n",
      "3       97.0\n",
      "4       97.0\n",
      "        ... \n",
      "8779    72.0\n",
      "8780    76.0\n",
      "8781    84.0\n",
      "8782    90.0\n",
      "8783    93.0\n",
      "Name: UMIDADE REL. MAX. NA HORA ANT. (AUT) (%), Length: 8784, dtype: float64\n"
     ]
    }
   ],
   "source": [
    "coluna_umi= df['UMIDADE REL. MAX. NA HORA ANT. (AUT) (%)']\n",
    "print (coluna_umi)"
   ]
  },
  {
   "cell_type": "markdown",
   "metadata": {},
   "source": [
    "### 11. `min()`, `max()`, `sum()` e `mean()`\n",
    "Funções para calcular o valor mínimo, máximo, soma e média, respectivamente.\n",
    "\n",
    "coluna_temperatura = df['Nome da coluna que tem no CSV (°C)']\n",
    "\n",
    "Exemplo:\n",
    "\n",
    "coluna_temperatura = df['TEMPERATURA DO AR - BULBO SECO, HORARIA (°C)']\n",
    "\n",
    "coluna_temperatura = pd.to_numeric(df('TEMPERATURA DO AR - BULBO SECO, HORARIA (°C)'), errors='coerce')\n",
    "\n",
    "\n",
    "coluna_temperatura.min()\n",
    "\n",
    "coluna_temparatura.max()...\n",
    "\n",
    "\n",
    "\n",
    "```python\n",
    "# Valor mínimo\n",
    "minimo = df['Coluna1'].min()\n",
    "\n",
    "# Valor máximo\n",
    "maximo = df['Coluna1'].max()\n",
    "\n",
    "# Soma dos valores\n",
    "soma = df['Coluna1'].sum()\n",
    "\n",
    "# Média dos valores\n",
    "media = df['Coluna1'].mean()\n",
    "\n",
    "print(f\"Mínimo: {minimo}, Máximo: {maximo}, Soma: {soma}, Média: {media}\")\n",
    "```"
   ]
  },
  {
   "cell_type": "code",
   "execution_count": 61,
   "metadata": {},
   "outputs": [],
   "source": [
    "coluna_temperatura = df['TEMPERATURA DO AR - BULBO SECO, HORARIA (°C)']"
   ]
  },
  {
   "cell_type": "code",
   "execution_count": 63,
   "metadata": {},
   "outputs": [],
   "source": [
    "coluna_temperatura = pd.to_numeric(df['TEMPERATURA DO AR - BULBO SECO, HORARIA (°C)'], errors='coerce')"
   ]
  },
  {
   "cell_type": "code",
   "execution_count": 64,
   "metadata": {},
   "outputs": [
    {
     "data": {
      "text/plain": [
       "np.float64(6.0)"
      ]
     },
     "execution_count": 64,
     "metadata": {},
     "output_type": "execute_result"
    }
   ],
   "source": [
    "coluna_temperatura.min()"
   ]
  },
  {
   "cell_type": "code",
   "execution_count": 65,
   "metadata": {},
   "outputs": [
    {
     "data": {
      "text/plain": [
       "np.float64(40.0)"
      ]
     },
     "execution_count": 65,
     "metadata": {},
     "output_type": "execute_result"
    }
   ],
   "source": [
    "coluna_temperatura.max()"
   ]
  },
  {
   "cell_type": "code",
   "execution_count": 67,
   "metadata": {},
   "outputs": [
    {
     "data": {
      "text/plain": [
       "np.float64(21149.0)"
      ]
     },
     "execution_count": 67,
     "metadata": {},
     "output_type": "execute_result"
    }
   ],
   "source": [
    "coluna_temperatura.sum()"
   ]
  },
  {
   "cell_type": "code",
   "execution_count": 66,
   "metadata": {},
   "outputs": [
    {
     "data": {
      "text/plain": [
       "np.float64(23.978458049886623)"
      ]
     },
     "execution_count": 66,
     "metadata": {},
     "output_type": "execute_result"
    }
   ],
   "source": [
    "coluna_temperatura.mean()"
   ]
  },
  {
   "cell_type": "markdown",
   "metadata": {},
   "source": [
    "### 12. `isnull()`\n",
    "Identifica valores nulos no DataFrame, retornando um DataFrame booleano.\n",
    "\n",
    "```python\n",
    "# Verifica valores nulos\n",
    "nulos = df.isnull()\n",
    "print(nulos)\n",
    "\n",
    "# Contagem de valores nulos em cada coluna\n",
    "nulos_por_coluna = df.isnull().sum()\n",
    "print(nulos_por_coluna)\n",
    "```"
   ]
  },
  {
   "cell_type": "code",
   "execution_count": 69,
   "metadata": {},
   "outputs": [
    {
     "data": {
      "text/plain": [
       "Data                                                     0\n",
       "Hora UTC                                                 0\n",
       "PRECIPITAÇÃO TOTAL, HORÁRIO (mm)                         2\n",
       "PRESSAO ATMOSFERICA AO NIVEL DA ESTACAO, HORARIA (mB)    2\n",
       "TEMPERATURA DO AR - BULBO SECO, HORARIA (°C)             2\n",
       "UMIDADE REL. MAX. NA HORA ANT. (AUT) (%)                 3\n",
       "VENTO, DIREÇÃO HORARIA (gr) (° (gr))                     2\n",
       "VENTO, RAJADA MAXIMA (m/s)                               3\n",
       "VENTO, VELOCIDADE HORARIA (m/s)                          2\n",
       "dtype: int64"
      ]
     },
     "execution_count": 69,
     "metadata": {},
     "output_type": "execute_result"
    }
   ],
   "source": [
    "df.isnull().sum()"
   ]
  },
  {
   "cell_type": "markdown",
   "metadata": {},
   "source": [
    "### 13. `dropna()`\n",
    "Remove linhas ou colunas que contenham valores nulos.\n",
    "\n",
    "```python\n",
    "# Remove linhas com qualquer valor nulo\n",
    "df_sem_nulos = df.dropna()\n",
    "\n",
    "# Remove colunas que contenham valores nulos\n",
    "df_sem_nulos_colunas = df.dropna(axis=1)\n",
    "```"
   ]
  },
  {
   "cell_type": "code",
   "execution_count": null,
   "metadata": {},
   "outputs": [],
   "source": []
  },
  {
   "cell_type": "markdown",
   "metadata": {},
   "source": [
    "### 14. `fillna()`\n",
    "Preenche valores nulos com um valor específico.\n",
    "\n",
    "```python\n",
    "# Preenche valores nulos com 0\n",
    "df_preenchido = df.fillna(0)\n",
    "\n",
    "# Preenche valores nulos com a média da coluna\n",
    "df_preenchido_media = df.fillna(df.mean())\n",
    "```"
   ]
  },
  {
   "cell_type": "code",
   "execution_count": null,
   "metadata": {},
   "outputs": [],
   "source": []
  },
  {
   "cell_type": "markdown",
   "metadata": {},
   "source": [
    "### 15. `replace()`\n",
    "Substitui valores específicos no DataFrame.\n",
    "\n",
    "```python\n",
    "# Substitui todos os valores 0 por NaN\n",
    "df_substituido = df.replace(0, np.nan)\n",
    "\n",
    "# Substitui um valor específico em uma coluna\n",
    "df['Coluna1'] = df['Coluna1'].replace('ValorAntigo', 'ValorNovo')\n",
    "```"
   ]
  },
  {
   "cell_type": "code",
   "execution_count": null,
   "metadata": {},
   "outputs": [],
   "source": []
  },
  {
   "cell_type": "markdown",
   "metadata": {},
   "source": [
    "### 16. `drop_duplicates()`\n",
    "Remove linhas duplicadas do DataFrame.\n",
    "\n",
    "```python\n",
    "# Remove linhas duplicadas\n",
    "df_sem_duplicatas = df.drop_duplicates()\n",
    "\n",
    "# Remove duplicatas com base em colunas específicas\n",
    "df_sem_duplicatas_colunas = df.drop_duplicates(subset=['Coluna1', 'Coluna2'])\n",
    "```"
   ]
  },
  {
   "cell_type": "code",
   "execution_count": null,
   "metadata": {},
   "outputs": [],
   "source": []
  },
  {
   "cell_type": "markdown",
   "metadata": {},
   "source": [
    "### 17. Normalização\n",
    "A normalização é o processo de ajustar os valores das colunas para um mesmo intervalo, geralmente entre 0 e 1.\n",
    "\n",
    "```python\n",
    "# Normaliza os valores de uma coluna para o intervalo [0, 1]\n",
    "df['Coluna1_normalizada'] = (df['Coluna1'] - df['Coluna1'].min()) / (df['Coluna1'].max() - df['Coluna1'].min())\n",
    "\n",
    "# Outra forma de normalização usando o método z-score (normalização padrão)\n",
    "df['Coluna1_zscore'] = (df['Coluna1'] - df['Coluna1'].mean()) / df['Coluna1'].std()\n",
    "```\n"
   ]
  },
  {
   "cell_type": "code",
   "execution_count": 71,
   "metadata": {},
   "outputs": [],
   "source": [
    "df['Coluna1_normalizada'] = (df['UMIDADE REL. MAX. NA HORA ANT. (AUT) (%)'] - df['UMIDADE REL. MAX. NA HORA ANT. (AUT) (%)'].min()) / (df['UMIDADE REL. MAX. NA HORA ANT. (AUT) (%)'].max() - df['UMIDADE REL. MAX. NA HORA ANT. (AUT) (%)'].min())"
   ]
  },
  {
   "cell_type": "markdown",
   "metadata": {},
   "source": [
    "Instalando o matplolib\n",
    "\n",
    "# python -m pip install matplotlib\n"
   ]
  },
  {
   "cell_type": "code",
   "execution_count": 75,
   "metadata": {},
   "outputs": [
    {
     "name": "stdout",
     "output_type": "stream",
     "text": [
      "Requirement already satisfied: matplotlib in c:\\users\\paloma\\appdata\\local\\programs\\python\\python312\\lib\\site-packages (3.9.1.post1)\n",
      "Requirement already satisfied: contourpy>=1.0.1 in c:\\users\\paloma\\appdata\\local\\programs\\python\\python312\\lib\\site-packages (from matplotlib) (1.2.1)\n",
      "Requirement already satisfied: cycler>=0.10 in c:\\users\\paloma\\appdata\\local\\programs\\python\\python312\\lib\\site-packages (from matplotlib) (0.12.1)\n",
      "Requirement already satisfied: fonttools>=4.22.0 in c:\\users\\paloma\\appdata\\local\\programs\\python\\python312\\lib\\site-packages (from matplotlib) (4.53.1)\n",
      "Requirement already satisfied: kiwisolver>=1.3.1 in c:\\users\\paloma\\appdata\\local\\programs\\python\\python312\\lib\\site-packages (from matplotlib) (1.4.5)\n",
      "Requirement already satisfied: numpy>=1.23 in c:\\users\\paloma\\appdata\\local\\programs\\python\\python312\\lib\\site-packages (from matplotlib) (2.0.1)\n",
      "Requirement already satisfied: packaging>=20.0 in c:\\users\\paloma\\appdata\\local\\programs\\python\\python312\\lib\\site-packages (from matplotlib) (24.1)\n",
      "Requirement already satisfied: pillow>=8 in c:\\users\\paloma\\appdata\\local\\programs\\python\\python312\\lib\\site-packages (from matplotlib) (10.4.0)\n",
      "Requirement already satisfied: pyparsing>=2.3.1 in c:\\users\\paloma\\appdata\\local\\programs\\python\\python312\\lib\\site-packages (from matplotlib) (3.1.2)\n",
      "Requirement already satisfied: python-dateutil>=2.7 in c:\\users\\paloma\\appdata\\local\\programs\\python\\python312\\lib\\site-packages (from matplotlib) (2.9.0.post0)\n",
      "Requirement already satisfied: six>=1.5 in c:\\users\\paloma\\appdata\\local\\programs\\python\\python312\\lib\\site-packages (from python-dateutil>=2.7->matplotlib) (1.16.0)\n",
      "Note: you may need to restart the kernel to use updated packages.\n"
     ]
    }
   ],
   "source": [
    "pip install matplotlib"
   ]
  },
  {
   "cell_type": "markdown",
   "metadata": {},
   "source": [
    "continuar aqui"
   ]
  },
  {
   "cell_type": "code",
   "execution_count": 83,
   "metadata": {},
   "outputs": [],
   "source": [
    "import matplotlib.pyplot as plt"
   ]
  },
  {
   "cell_type": "code",
   "execution_count": 85,
   "metadata": {},
   "outputs": [
    {
     "data": {
      "text/html": [
       "<div>\n",
       "<style scoped>\n",
       "    .dataframe tbody tr th:only-of-type {\n",
       "        vertical-align: middle;\n",
       "    }\n",
       "\n",
       "    .dataframe tbody tr th {\n",
       "        vertical-align: top;\n",
       "    }\n",
       "\n",
       "    .dataframe thead th {\n",
       "        text-align: right;\n",
       "    }\n",
       "</style>\n",
       "<table border=\"1\" class=\"dataframe\">\n",
       "  <thead>\n",
       "    <tr style=\"text-align: right;\">\n",
       "      <th></th>\n",
       "      <th>Data</th>\n",
       "      <th>Hora UTC</th>\n",
       "      <th>PRECIPITAÇÃO TOTAL, HORÁRIO (mm)</th>\n",
       "      <th>PRESSAO ATMOSFERICA AO NIVEL DA ESTACAO, HORARIA (mB)</th>\n",
       "      <th>TEMPERATURA DO AR - BULBO SECO, HORARIA (°C)</th>\n",
       "      <th>UMIDADE REL. MAX. NA HORA ANT. (AUT) (%)</th>\n",
       "      <th>VENTO, DIREÇÃO HORARIA (gr) (° (gr))</th>\n",
       "      <th>VENTO, RAJADA MAXIMA (m/s)</th>\n",
       "      <th>VENTO, VELOCIDADE HORARIA (m/s)</th>\n",
       "      <th>Coluna1_normalizada</th>\n",
       "    </tr>\n",
       "  </thead>\n",
       "  <tbody>\n",
       "    <tr>\n",
       "      <th>0</th>\n",
       "      <td>01/01/2020</td>\n",
       "      <td>0000 UTC</td>\n",
       "      <td>0</td>\n",
       "      <td>972,1</td>\n",
       "      <td>24,2</td>\n",
       "      <td>93.0</td>\n",
       "      <td>3.0</td>\n",
       "      <td>3,6</td>\n",
       "      <td>2,2</td>\n",
       "      <td>0.9250</td>\n",
       "    </tr>\n",
       "    <tr>\n",
       "      <th>1</th>\n",
       "      <td>01/01/2020</td>\n",
       "      <td>0100 UTC</td>\n",
       "      <td>0</td>\n",
       "      <td>972,7</td>\n",
       "      <td>23,9</td>\n",
       "      <td>94.0</td>\n",
       "      <td>328.0</td>\n",
       "      <td>4,2</td>\n",
       "      <td>2</td>\n",
       "      <td>0.9375</td>\n",
       "    </tr>\n",
       "    <tr>\n",
       "      <th>2</th>\n",
       "      <td>01/01/2020</td>\n",
       "      <td>0200 UTC</td>\n",
       "      <td>0</td>\n",
       "      <td>972,5</td>\n",
       "      <td>23,8</td>\n",
       "      <td>95.0</td>\n",
       "      <td>286.0</td>\n",
       "      <td>3,8</td>\n",
       "      <td>2,5</td>\n",
       "      <td>0.9500</td>\n",
       "    </tr>\n",
       "    <tr>\n",
       "      <th>3</th>\n",
       "      <td>01/01/2020</td>\n",
       "      <td>0300 UTC</td>\n",
       "      <td>0</td>\n",
       "      <td>972</td>\n",
       "      <td>23,3</td>\n",
       "      <td>97.0</td>\n",
       "      <td>129.0</td>\n",
       "      <td>3,4</td>\n",
       "      <td>0,5</td>\n",
       "      <td>0.9750</td>\n",
       "    </tr>\n",
       "    <tr>\n",
       "      <th>4</th>\n",
       "      <td>01/01/2020</td>\n",
       "      <td>0400 UTC</td>\n",
       "      <td>0</td>\n",
       "      <td>971,7</td>\n",
       "      <td>23,2</td>\n",
       "      <td>97.0</td>\n",
       "      <td>122.0</td>\n",
       "      <td>3,4</td>\n",
       "      <td>1,2</td>\n",
       "      <td>0.9750</td>\n",
       "    </tr>\n",
       "  </tbody>\n",
       "</table>\n",
       "</div>"
      ],
      "text/plain": [
       "         Data  Hora UTC PRECIPITAÇÃO TOTAL, HORÁRIO (mm)  \\\n",
       "0  01/01/2020  0000 UTC                                0   \n",
       "1  01/01/2020  0100 UTC                                0   \n",
       "2  01/01/2020  0200 UTC                                0   \n",
       "3  01/01/2020  0300 UTC                                0   \n",
       "4  01/01/2020  0400 UTC                                0   \n",
       "\n",
       "  PRESSAO ATMOSFERICA AO NIVEL DA ESTACAO, HORARIA (mB)  \\\n",
       "0                                              972,1      \n",
       "1                                              972,7      \n",
       "2                                              972,5      \n",
       "3                                                972      \n",
       "4                                              971,7      \n",
       "\n",
       "  TEMPERATURA DO AR - BULBO SECO, HORARIA (°C)  \\\n",
       "0                                         24,2   \n",
       "1                                         23,9   \n",
       "2                                         23,8   \n",
       "3                                         23,3   \n",
       "4                                         23,2   \n",
       "\n",
       "   UMIDADE REL. MAX. NA HORA ANT. (AUT) (%)  \\\n",
       "0                                      93.0   \n",
       "1                                      94.0   \n",
       "2                                      95.0   \n",
       "3                                      97.0   \n",
       "4                                      97.0   \n",
       "\n",
       "   VENTO, DIREÇÃO HORARIA (gr) (° (gr)) VENTO, RAJADA MAXIMA (m/s)  \\\n",
       "0                                   3.0                        3,6   \n",
       "1                                 328.0                        4,2   \n",
       "2                                 286.0                        3,8   \n",
       "3                                 129.0                        3,4   \n",
       "4                                 122.0                        3,4   \n",
       "\n",
       "  VENTO, VELOCIDADE HORARIA (m/s)  Coluna1_normalizada  \n",
       "0                             2,2               0.9250  \n",
       "1                               2               0.9375  \n",
       "2                             2,5               0.9500  \n",
       "3                             0,5               0.9750  \n",
       "4                             1,2               0.9750  "
      ]
     },
     "execution_count": 85,
     "metadata": {},
     "output_type": "execute_result"
    }
   ],
   "source": [
    "df.head()"
   ]
  },
  {
   "cell_type": "code",
   "execution_count": 72,
   "metadata": {},
   "outputs": [],
   "source": [
    "df_20 = df.head(20)"
   ]
  },
  {
   "cell_type": "code",
   "execution_count": 86,
   "metadata": {},
   "outputs": [
    {
     "data": {
      "image/png": "[encoded data removed]",
      "text/plain": [
       "<Figure size 1200x600 with 1 Axes>"
      ]
     },
     "metadata": {},
     "output_type": "display_data"
    }
   ],
   "source": [
    "plt.figure(figsize=(12, 6))\n",
    "plt.plot(df_20['Hora UTC'], df_20['UMIDADE REL. MAX. NA HORA ANT. (AUT) (%)'], marker='o', linestyle='-', color='g')\n",
    "plt.xlabel('Hora UTC')\n",
    "plt.ylabel('Umidade (%)')\n",
    "plt.title('Umidade ao Longo do Tempo')\n",
    "plt.xticks(rotation=90)\n",
    "plt.tight_layout()\n",
    "plt.show()"
   ]
  },
  {
   "cell_type": "code",
   "execution_count": 88,
   "metadata": {},
   "outputs": [
    {
     "data": {
      "image/png": "[encoded data removed]",
      "text/plain": [
       "<Figure size 1200x600 with 1 Axes>"
      ]
     },
     "metadata": {},
     "output_type": "display_data"
    }
   ],
   "source": [
    "# Gráfico de Dispersão\n",
    "plt.figure(figsize=(12, 6))\n",
    "plt.scatter(df_20['TEMPERATURA DO AR - BULBO SECO, HORARIA (°C)'], df_20['UMIDADE REL. MAX. NA HORA ANT. (AUT) (%)'], color='y')\n",
    "plt.xlabel('Temperatura (°C)')\n",
    "plt.ylabel('Umidade (%)')\n",
    "plt.title('Temperatura x Umidade')\n",
    "plt.tight_layout()\n",
    "plt.show()"
   ]
  },
  {
   "cell_type": "code",
   "execution_count": 91,
   "metadata": {},
   "outputs": [
    {
     "data": {
      "image/png": "[encoded data removed]",
      "text/plain": [
       "<Figure size 1200x600 with 1 Axes>"
      ]
     },
     "metadata": {},
     "output_type": "display_data"
    }
   ],
   "source": [
    "plt.figure(figsize=(12, 6))\n",
    "plt.bar(df_20['Hora UTC'], df_20['PRECIPITAÇÃO TOTAL, HORÁRIO (mm)'], color='r')\n",
    "plt.xlabel('Hora UTC')\n",
    "plt.ylabel('Precipitação (mm)')\n",
    "plt.title('Precipitação ao Longo do Tempo')\n",
    "plt.xticks(rotation=90)\n",
    "plt.tight_layout()\n",
    "plt.show()"
   ]
  }
 ],
 "metadata": {
  "kernelspec": {
   "display_name": "Python 3",
   "language": "python",
   "name": "python3"
  },
  "language_info": {
   "codemirror_mode": {
    "name": "ipython",
    "version": 3
   },
   "file_extension": ".py",
   "mimetype": "text/x-python",
   "name": "python",
   "nbconvert_exporter": "python",
   "pygments_lexer": "ipython3",
   "version": "3.12.3"
  }
 },
 "nbformat": 4,
 "nbformat_minor": 2
}
