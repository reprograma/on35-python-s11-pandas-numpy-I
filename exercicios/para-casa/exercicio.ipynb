{
 "cells": [
  {
   "cell_type": "code",
   "execution_count": 1,
   "metadata": {},
   "outputs": [],
   "source": [
    "import pandas as pd\n",
    "df = pd.read_csv('salvador_2023.csv', delimiter=';', skiprows=8, encoding='latin1')"
   ]
  },
  {
   "cell_type": "code",
   "execution_count": 2,
   "metadata": {},
   "outputs": [],
   "source": [
    "coluna_temperatura = df[['TEMPERATURA DO AR - BULBO SECO, HORARIA (°C)', \n",
    "                          'TEMPERATURA DO PONTO DE ORVALHO (°C)', \n",
    "                          'TEMPERATURA MÁXIMA NA HORA ANT. (AUT) (°C)', \n",
    "                          'TEMPERATURA MÍNIMA NA HORA ANT. (AUT) (°C)', \n",
    "                          'TEMPERATURA ORVALHO MAX. NA HORA ANT. (AUT) (°C)', \n",
    "                          'TEMPERATURA ORVALHO MIN. NA HORA ANT. (AUT) (°C)']]\n"
   ]
  },
  {
   "cell_type": "code",
   "execution_count": 3,
   "metadata": {},
   "outputs": [
    {
     "data": {
      "text/plain": [
       "TEMPERATURA DO AR - BULBO SECO, HORARIA (°C)        26.122693\n",
       "TEMPERATURA DO PONTO DE ORVALHO (°C)                21.844693\n",
       "TEMPERATURA MÁXIMA NA HORA ANT. (AUT) (°C)          26.514773\n",
       "TEMPERATURA MÍNIMA NA HORA ANT. (AUT) (°C)          25.603666\n",
       "TEMPERATURA ORVALHO MAX. NA HORA ANT. (AUT) (°C)    22.339188\n",
       "TEMPERATURA ORVALHO MIN. NA HORA ANT. (AUT) (°C)    21.530055\n",
       "dtype: float64"
      ]
     },
     "execution_count": 3,
     "metadata": {},
     "output_type": "execute_result"
    }
   ],
   "source": [
    "coluna_temperatura = coluna_temperatura.apply(pd.to_numeric, errors='coerce')\n",
    "coluna_temperatura.mean()\n"
   ]
  },
  {
   "cell_type": "code",
   "execution_count": 4,
   "metadata": {},
   "outputs": [],
   "source": [
    "df = df.dropna(subset=['RADIACAO GLOBAL (Kj/m²)'])"
   ]
  },
  {
   "cell_type": "code",
   "execution_count": 5,
   "metadata": {},
   "outputs": [],
   "source": [
    "df_reduzido = df[['PRESSAO ATMOSFERICA AO NIVEL DA ESTACAO, HORARIA (mB)', \n",
    "                  'UMIDADE RELATIVA DO AR, HORARIA (%)', \n",
    "                  'VENTO, RAJADA MAXIMA (m/s)']].sample(n=1000)\n"
   ]
  }
 ],
 "metadata": {
  "kernelspec": {
   "display_name": "Python 3",
   "language": "python",
   "name": "python3"
  },
  "language_info": {
   "codemirror_mode": {
    "name": "ipython",
    "version": 3
   },
   "file_extension": ".py",
   "mimetype": "text/x-python",
   "name": "python",
   "nbconvert_exporter": "python",
   "pygments_lexer": "ipython3",
   "version": "3.12.3"
  }
 },
 "nbformat": 4,
 "nbformat_minor": 2
}
