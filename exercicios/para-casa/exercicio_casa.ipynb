{
 "cells": [
  {
   "cell_type": "markdown",
   "metadata": {},
   "source": [
    "# Exercício de Casa 🏠 \n",
    "\n",
    "Utilizar a tabela de dados do clima de seu estado, manipule os dados de acordo com as instruções abaixo:\n",
    "    - calcular a média da temperatura da amostra\n",
    "    - retirar nulos da coluna 'RADIACAO GLOBAL (Kj/m2)'\n",
    "    - copiar o dataframe reduzindo para 3 colunas (a sua escolha) e 1000 linhas (aleatórias)\n",
    "    - Bônus: normalizar coluna (qualquer uma)\n",
    "    - Bônus II: pesquisar sobre outras formas de processamento de dados além das vistas em sala de aula\n",
    "---"
   ]
  },
  {
   "cell_type": "code",
   "execution_count": 18,
   "metadata": {},
   "outputs": [],
   "source": [
    "import pandas as pd\n",
    "import numpy as np"
   ]
  },
  {
   "cell_type": "code",
   "execution_count": 19,
   "metadata": {},
   "outputs": [
    {
     "data": {
      "text/html": [
       "<div>\n",
       "<style scoped>\n",
       "    .dataframe tbody tr th:only-of-type {\n",
       "        vertical-align: middle;\n",
       "    }\n",
       "\n",
       "    .dataframe tbody tr th {\n",
       "        vertical-align: top;\n",
       "    }\n",
       "\n",
       "    .dataframe thead th {\n",
       "        text-align: right;\n",
       "    }\n",
       "</style>\n",
       "<table border=\"1\" class=\"dataframe\">\n",
       "  <thead>\n",
       "    <tr style=\"text-align: right;\">\n",
       "      <th></th>\n",
       "      <th>Data</th>\n",
       "      <th>Hora UTC</th>\n",
       "      <th>PRECIPITAÇÃO TOTAL, HORÁRIO (mm)</th>\n",
       "      <th>PRESSAO ATMOSFERICA AO NIVEL DA ESTACAO, HORARIA (mB)</th>\n",
       "      <th>PRESSÃO ATMOSFERICA MAX.NA HORA ANT. (AUT) (mB)</th>\n",
       "      <th>PRESSÃO ATMOSFERICA MIN. NA HORA ANT. (AUT) (mB)</th>\n",
       "      <th>RADIACAO GLOBAL (Kj/m²)</th>\n",
       "      <th>TEMPERATURA DO AR - BULBO SECO, HORARIA (°C)</th>\n",
       "      <th>TEMPERATURA DO PONTO DE ORVALHO (°C)</th>\n",
       "      <th>TEMPERATURA MÁXIMA NA HORA ANT. (AUT) (°C)</th>\n",
       "      <th>TEMPERATURA MÍNIMA NA HORA ANT. (AUT) (°C)</th>\n",
       "      <th>TEMPERATURA ORVALHO MAX. NA HORA ANT. (AUT) (°C)</th>\n",
       "      <th>TEMPERATURA ORVALHO MIN. NA HORA ANT. (AUT) (°C)</th>\n",
       "      <th>UMIDADE REL. MAX. NA HORA ANT. (AUT) (%)</th>\n",
       "      <th>UMIDADE REL. MIN. NA HORA ANT. (AUT) (%)</th>\n",
       "      <th>UMIDADE RELATIVA DO AR, HORARIA (%)</th>\n",
       "      <th>VENTO, DIREÇÃO HORARIA (gr) (° (gr))</th>\n",
       "      <th>VENTO, RAJADA MAXIMA (m/s)</th>\n",
       "      <th>VENTO, VELOCIDADE HORARIA (m/s)</th>\n",
       "      <th>Unnamed: 19</th>\n",
       "    </tr>\n",
       "  </thead>\n",
       "  <tbody>\n",
       "    <tr>\n",
       "      <th>0</th>\n",
       "      <td>2024/01/01</td>\n",
       "      <td>0000 UTC</td>\n",
       "      <td>0</td>\n",
       "      <td>928,2</td>\n",
       "      <td>928,2</td>\n",
       "      <td>927,8</td>\n",
       "      <td>NaN</td>\n",
       "      <td>18,8</td>\n",
       "      <td>16,7</td>\n",
       "      <td>18,9</td>\n",
       "      <td>18,7</td>\n",
       "      <td>16,8</td>\n",
       "      <td>16,3</td>\n",
       "      <td>88.0</td>\n",
       "      <td>85.0</td>\n",
       "      <td>87.0</td>\n",
       "      <td>NaN</td>\n",
       "      <td>NaN</td>\n",
       "      <td>NaN</td>\n",
       "      <td>NaN</td>\n",
       "    </tr>\n",
       "    <tr>\n",
       "      <th>1</th>\n",
       "      <td>2024/01/01</td>\n",
       "      <td>0100 UTC</td>\n",
       "      <td>0</td>\n",
       "      <td>928,8</td>\n",
       "      <td>928,8</td>\n",
       "      <td>928,2</td>\n",
       "      <td>NaN</td>\n",
       "      <td>19</td>\n",
       "      <td>16,8</td>\n",
       "      <td>19</td>\n",
       "      <td>18,7</td>\n",
       "      <td>17</td>\n",
       "      <td>16,6</td>\n",
       "      <td>89.0</td>\n",
       "      <td>87.0</td>\n",
       "      <td>88.0</td>\n",
       "      <td>NaN</td>\n",
       "      <td>NaN</td>\n",
       "      <td>NaN</td>\n",
       "      <td>NaN</td>\n",
       "    </tr>\n",
       "    <tr>\n",
       "      <th>2</th>\n",
       "      <td>2024/01/01</td>\n",
       "      <td>0200 UTC</td>\n",
       "      <td>0</td>\n",
       "      <td>928,7</td>\n",
       "      <td>929</td>\n",
       "      <td>928,7</td>\n",
       "      <td>NaN</td>\n",
       "      <td>18,8</td>\n",
       "      <td>16,9</td>\n",
       "      <td>19</td>\n",
       "      <td>18,8</td>\n",
       "      <td>17,1</td>\n",
       "      <td>16,8</td>\n",
       "      <td>89.0</td>\n",
       "      <td>88.0</td>\n",
       "      <td>89.0</td>\n",
       "      <td>NaN</td>\n",
       "      <td>NaN</td>\n",
       "      <td>NaN</td>\n",
       "      <td>NaN</td>\n",
       "    </tr>\n",
       "    <tr>\n",
       "      <th>3</th>\n",
       "      <td>2024/01/01</td>\n",
       "      <td>0300 UTC</td>\n",
       "      <td>0</td>\n",
       "      <td>928,4</td>\n",
       "      <td>928,7</td>\n",
       "      <td>928,4</td>\n",
       "      <td>NaN</td>\n",
       "      <td>18,8</td>\n",
       "      <td>17,2</td>\n",
       "      <td>18,9</td>\n",
       "      <td>18,8</td>\n",
       "      <td>17,2</td>\n",
       "      <td>16,9</td>\n",
       "      <td>90.0</td>\n",
       "      <td>89.0</td>\n",
       "      <td>90.0</td>\n",
       "      <td>NaN</td>\n",
       "      <td>NaN</td>\n",
       "      <td>NaN</td>\n",
       "      <td>NaN</td>\n",
       "    </tr>\n",
       "    <tr>\n",
       "      <th>4</th>\n",
       "      <td>2024/01/01</td>\n",
       "      <td>0400 UTC</td>\n",
       "      <td>0</td>\n",
       "      <td>927,7</td>\n",
       "      <td>928,4</td>\n",
       "      <td>927,7</td>\n",
       "      <td>NaN</td>\n",
       "      <td>18,6</td>\n",
       "      <td>17</td>\n",
       "      <td>18,8</td>\n",
       "      <td>18,5</td>\n",
       "      <td>17,3</td>\n",
       "      <td>17</td>\n",
       "      <td>91.0</td>\n",
       "      <td>90.0</td>\n",
       "      <td>90.0</td>\n",
       "      <td>NaN</td>\n",
       "      <td>NaN</td>\n",
       "      <td>NaN</td>\n",
       "      <td>NaN</td>\n",
       "    </tr>\n",
       "  </tbody>\n",
       "</table>\n",
       "</div>"
      ],
      "text/plain": [
       "         Data  Hora UTC PRECIPITAÇÃO TOTAL, HORÁRIO (mm)  \\\n",
       "0  2024/01/01  0000 UTC                                0   \n",
       "1  2024/01/01  0100 UTC                                0   \n",
       "2  2024/01/01  0200 UTC                                0   \n",
       "3  2024/01/01  0300 UTC                                0   \n",
       "4  2024/01/01  0400 UTC                                0   \n",
       "\n",
       "  PRESSAO ATMOSFERICA AO NIVEL DA ESTACAO, HORARIA (mB)  \\\n",
       "0                                              928,2      \n",
       "1                                              928,8      \n",
       "2                                              928,7      \n",
       "3                                              928,4      \n",
       "4                                              927,7      \n",
       "\n",
       "  PRESSÃO ATMOSFERICA MAX.NA HORA ANT. (AUT) (mB)  \\\n",
       "0                                           928,2   \n",
       "1                                           928,8   \n",
       "2                                             929   \n",
       "3                                           928,7   \n",
       "4                                           928,4   \n",
       "\n",
       "  PRESSÃO ATMOSFERICA MIN. NA HORA ANT. (AUT) (mB) RADIACAO GLOBAL (Kj/m²)  \\\n",
       "0                                            927,8                     NaN   \n",
       "1                                            928,2                     NaN   \n",
       "2                                            928,7                     NaN   \n",
       "3                                            928,4                     NaN   \n",
       "4                                            927,7                     NaN   \n",
       "\n",
       "  TEMPERATURA DO AR - BULBO SECO, HORARIA (°C)  \\\n",
       "0                                         18,8   \n",
       "1                                           19   \n",
       "2                                         18,8   \n",
       "3                                         18,8   \n",
       "4                                         18,6   \n",
       "\n",
       "  TEMPERATURA DO PONTO DE ORVALHO (°C)  \\\n",
       "0                                 16,7   \n",
       "1                                 16,8   \n",
       "2                                 16,9   \n",
       "3                                 17,2   \n",
       "4                                   17   \n",
       "\n",
       "  TEMPERATURA MÁXIMA NA HORA ANT. (AUT) (°C)  \\\n",
       "0                                       18,9   \n",
       "1                                         19   \n",
       "2                                         19   \n",
       "3                                       18,9   \n",
       "4                                       18,8   \n",
       "\n",
       "  TEMPERATURA MÍNIMA NA HORA ANT. (AUT) (°C)  \\\n",
       "0                                       18,7   \n",
       "1                                       18,7   \n",
       "2                                       18,8   \n",
       "3                                       18,8   \n",
       "4                                       18,5   \n",
       "\n",
       "  TEMPERATURA ORVALHO MAX. NA HORA ANT. (AUT) (°C)  \\\n",
       "0                                             16,8   \n",
       "1                                               17   \n",
       "2                                             17,1   \n",
       "3                                             17,2   \n",
       "4                                             17,3   \n",
       "\n",
       "  TEMPERATURA ORVALHO MIN. NA HORA ANT. (AUT) (°C)  \\\n",
       "0                                             16,3   \n",
       "1                                             16,6   \n",
       "2                                             16,8   \n",
       "3                                             16,9   \n",
       "4                                               17   \n",
       "\n",
       "   UMIDADE REL. MAX. NA HORA ANT. (AUT) (%)  \\\n",
       "0                                      88.0   \n",
       "1                                      89.0   \n",
       "2                                      89.0   \n",
       "3                                      90.0   \n",
       "4                                      91.0   \n",
       "\n",
       "   UMIDADE REL. MIN. NA HORA ANT. (AUT) (%)  \\\n",
       "0                                      85.0   \n",
       "1                                      87.0   \n",
       "2                                      88.0   \n",
       "3                                      89.0   \n",
       "4                                      90.0   \n",
       "\n",
       "   UMIDADE RELATIVA DO AR, HORARIA (%)  VENTO, DIREÇÃO HORARIA (gr) (° (gr))  \\\n",
       "0                                 87.0                                   NaN   \n",
       "1                                 88.0                                   NaN   \n",
       "2                                 89.0                                   NaN   \n",
       "3                                 90.0                                   NaN   \n",
       "4                                 90.0                                   NaN   \n",
       "\n",
       "  VENTO, RAJADA MAXIMA (m/s) VENTO, VELOCIDADE HORARIA (m/s)  Unnamed: 19  \n",
       "0                        NaN                             NaN          NaN  \n",
       "1                        NaN                             NaN          NaN  \n",
       "2                        NaN                             NaN          NaN  \n",
       "3                        NaN                             NaN          NaN  \n",
       "4                        NaN                             NaN          NaN  "
      ]
     },
     "execution_count": 19,
     "metadata": {},
     "output_type": "execute_result"
    }
   ],
   "source": [
    "# Fazendo a leitura do arquivo \n",
    "df = pd.read_csv('SAO PAULO-2024.CSV', delimiter=';', skiprows=8, encoding='latin1')\n",
    "df.head()"
   ]
  },
  {
   "cell_type": "code",
   "execution_count": 20,
   "metadata": {},
   "outputs": [
    {
     "data": {
      "text/plain": [
       "Data                                                      object\n",
       "Hora UTC                                                  object\n",
       "PRECIPITAÇÃO TOTAL, HORÁRIO (mm)                          object\n",
       "PRESSAO ATMOSFERICA AO NIVEL DA ESTACAO, HORARIA (mB)     object\n",
       "PRESSÃO ATMOSFERICA MAX.NA HORA ANT. (AUT) (mB)           object\n",
       "PRESSÃO ATMOSFERICA MIN. NA HORA ANT. (AUT) (mB)          object\n",
       "RADIACAO GLOBAL (Kj/m²)                                   object\n",
       "TEMPERATURA DO AR - BULBO SECO, HORARIA (°C)              object\n",
       "TEMPERATURA DO PONTO DE ORVALHO (°C)                      object\n",
       "TEMPERATURA MÁXIMA NA HORA ANT. (AUT) (°C)                object\n",
       "TEMPERATURA MÍNIMA NA HORA ANT. (AUT) (°C)                object\n",
       "TEMPERATURA ORVALHO MAX. NA HORA ANT. (AUT) (°C)          object\n",
       "TEMPERATURA ORVALHO MIN. NA HORA ANT. (AUT) (°C)          object\n",
       "UMIDADE REL. MAX. NA HORA ANT. (AUT) (%)                 float64\n",
       "UMIDADE REL. MIN. NA HORA ANT. (AUT) (%)                 float64\n",
       "UMIDADE RELATIVA DO AR, HORARIA (%)                      float64\n",
       "VENTO, DIREÇÃO HORARIA (gr) (° (gr))                     float64\n",
       "VENTO, RAJADA MAXIMA (m/s)                                object\n",
       "VENTO, VELOCIDADE HORARIA (m/s)                           object\n",
       "Unnamed: 19                                              float64\n",
       "dtype: object"
      ]
     },
     "execution_count": 20,
     "metadata": {},
     "output_type": "execute_result"
    }
   ],
   "source": [
    "df.dtypes"
   ]
  },
  {
   "cell_type": "code",
   "execution_count": 21,
   "metadata": {},
   "outputs": [
    {
     "data": {
      "text/plain": [
       "0       18.8\n",
       "1         19\n",
       "2       18.8\n",
       "3       18.8\n",
       "4       18.6\n",
       "        ... \n",
       "4363    11.5\n",
       "4364    11.2\n",
       "4365      11\n",
       "4366    11.3\n",
       "4367    11.3\n",
       "Name: TEMPERATURA DO AR - BULBO SECO, HORARIA (°C), Length: 4368, dtype: object"
      ]
     },
     "execution_count": 21,
     "metadata": {},
     "output_type": "execute_result"
    }
   ],
   "source": [
    "# 1- Substituindo ',' por '.'\n",
    "temperatura = df['TEMPERATURA DO AR - BULBO SECO, HORARIA (°C)'].replace(',', '.', regex=True)\n",
    "temperatura"
   ]
  },
  {
   "cell_type": "code",
   "execution_count": 22,
   "metadata": {},
   "outputs": [
    {
     "data": {
      "text/plain": [
       "np.float64(21.47624942686841)"
      ]
     },
     "execution_count": 22,
     "metadata": {},
     "output_type": "execute_result"
    }
   ],
   "source": [
    "# 1- Transformando a coluna em float e calculando a média da temperatura \n",
    "temperatura = pd.to_numeric(temperatura, errors='coerce')\n",
    "media = temperatura.mean()\n",
    "media"
   ]
  },
  {
   "cell_type": "code",
   "execution_count": 31,
   "metadata": {},
   "outputs": [
    {
     "name": "stdout",
     "output_type": "stream",
     "text": [
      "2050\n"
     ]
    },
    {
     "data": {
      "text/plain": [
       "9         39,1\n",
       "10       271,9\n",
       "11       630,4\n",
       "12      1007,9\n",
       "13       903,1\n",
       "         ...  \n",
       "4361     224,9\n",
       "4362     193,9\n",
       "4363     139,4\n",
       "4364      47,5\n",
       "4365       6,8\n",
       "Name: RADIACAO GLOBAL (Kj/m²), Length: 2318, dtype: object"
      ]
     },
     "execution_count": 31,
     "metadata": {},
     "output_type": "execute_result"
    }
   ],
   "source": [
    "# 2 retirarando os  nulos da coluna 'RADIACAO GLOBAL (Kj/m2)'\n",
    "\n",
    "remover = df['RADIACAO GLOBAL (Kj/m²)']\n",
    "print(remover.isnull().sum())\n",
    "removido = remover.dropna(axis=0, how='all')\n",
    "removido\n",
    "\n",
    "\n"
   ]
  },
  {
   "cell_type": "code",
   "execution_count": 10,
   "metadata": {},
   "outputs": [
    {
     "data": {
      "text/html": [
       "<div>\n",
       "<style scoped>\n",
       "    .dataframe tbody tr th:only-of-type {\n",
       "        vertical-align: middle;\n",
       "    }\n",
       "\n",
       "    .dataframe tbody tr th {\n",
       "        vertical-align: top;\n",
       "    }\n",
       "\n",
       "    .dataframe thead th {\n",
       "        text-align: right;\n",
       "    }\n",
       "</style>\n",
       "<table border=\"1\" class=\"dataframe\">\n",
       "  <thead>\n",
       "    <tr style=\"text-align: right;\">\n",
       "      <th></th>\n",
       "      <th>Data</th>\n",
       "      <th>TEMPERATURA DO AR - BULBO SECO, HORARIA (°C)</th>\n",
       "      <th>PRESSAO ATMOSFERICA AO NIVEL DA ESTACAO, HORARIA (mB)</th>\n",
       "    </tr>\n",
       "  </thead>\n",
       "  <tbody>\n",
       "    <tr>\n",
       "      <th>0</th>\n",
       "      <td>2024/01/01</td>\n",
       "      <td>18,8</td>\n",
       "      <td>928,2</td>\n",
       "    </tr>\n",
       "    <tr>\n",
       "      <th>1</th>\n",
       "      <td>2024/01/01</td>\n",
       "      <td>19</td>\n",
       "      <td>928,8</td>\n",
       "    </tr>\n",
       "    <tr>\n",
       "      <th>2</th>\n",
       "      <td>2024/01/01</td>\n",
       "      <td>18,8</td>\n",
       "      <td>928,7</td>\n",
       "    </tr>\n",
       "    <tr>\n",
       "      <th>3</th>\n",
       "      <td>2024/01/01</td>\n",
       "      <td>18,8</td>\n",
       "      <td>928,4</td>\n",
       "    </tr>\n",
       "    <tr>\n",
       "      <th>4</th>\n",
       "      <td>2024/01/01</td>\n",
       "      <td>18,6</td>\n",
       "      <td>927,7</td>\n",
       "    </tr>\n",
       "    <tr>\n",
       "      <th>...</th>\n",
       "      <td>...</td>\n",
       "      <td>...</td>\n",
       "      <td>...</td>\n",
       "    </tr>\n",
       "    <tr>\n",
       "      <th>995</th>\n",
       "      <td>2024/02/11</td>\n",
       "      <td>24,3</td>\n",
       "      <td>930,2</td>\n",
       "    </tr>\n",
       "    <tr>\n",
       "      <th>996</th>\n",
       "      <td>2024/02/11</td>\n",
       "      <td>26,3</td>\n",
       "      <td>930,5</td>\n",
       "    </tr>\n",
       "    <tr>\n",
       "      <th>997</th>\n",
       "      <td>2024/02/11</td>\n",
       "      <td>28</td>\n",
       "      <td>930,4</td>\n",
       "    </tr>\n",
       "    <tr>\n",
       "      <th>998</th>\n",
       "      <td>2024/02/11</td>\n",
       "      <td>29,6</td>\n",
       "      <td>930</td>\n",
       "    </tr>\n",
       "    <tr>\n",
       "      <th>999</th>\n",
       "      <td>2024/02/11</td>\n",
       "      <td>30,9</td>\n",
       "      <td>929,5</td>\n",
       "    </tr>\n",
       "  </tbody>\n",
       "</table>\n",
       "<p>1000 rows × 3 columns</p>\n",
       "</div>"
      ],
      "text/plain": [
       "           Data TEMPERATURA DO AR - BULBO SECO, HORARIA (°C)  \\\n",
       "0    2024/01/01                                         18,8   \n",
       "1    2024/01/01                                           19   \n",
       "2    2024/01/01                                         18,8   \n",
       "3    2024/01/01                                         18,8   \n",
       "4    2024/01/01                                         18,6   \n",
       "..          ...                                          ...   \n",
       "995  2024/02/11                                         24,3   \n",
       "996  2024/02/11                                         26,3   \n",
       "997  2024/02/11                                           28   \n",
       "998  2024/02/11                                         29,6   \n",
       "999  2024/02/11                                         30,9   \n",
       "\n",
       "    PRESSAO ATMOSFERICA AO NIVEL DA ESTACAO, HORARIA (mB)  \n",
       "0                                                928,2     \n",
       "1                                                928,8     \n",
       "2                                                928,7     \n",
       "3                                                928,4     \n",
       "4                                                927,7     \n",
       "..                                                 ...     \n",
       "995                                              930,2     \n",
       "996                                              930,5     \n",
       "997                                              930,4     \n",
       "998                                                930     \n",
       "999                                              929,5     \n",
       "\n",
       "[1000 rows x 3 columns]"
      ]
     },
     "execution_count": 10,
     "metadata": {},
     "output_type": "execute_result"
    }
   ],
   "source": [
    "# 3 copiar o dataframe reduzindo para 3 colunas (a sua escolha) e 1000 linhas (aleatórias)\n",
    "\n",
    "df_reduzido = df[['Data','TEMPERATURA DO AR - BULBO SECO, HORARIA (°C)','PRESSAO ATMOSFERICA AO NIVEL DA ESTACAO, HORARIA (mB)']]\n",
    "df_reduzido.head(1000)\n"
   ]
  },
  {
   "cell_type": "code",
   "execution_count": 11,
   "metadata": {},
   "outputs": [
    {
     "data": {
      "text/plain": [
       "Data                                                     object\n",
       "TEMPERATURA DO AR - BULBO SECO, HORARIA (°C)             object\n",
       "PRESSAO ATMOSFERICA AO NIVEL DA ESTACAO, HORARIA (mB)    object\n",
       "dtype: object"
      ]
     },
     "execution_count": 11,
     "metadata": {},
     "output_type": "execute_result"
    }
   ],
   "source": [
    "df_reduzido.dtypes"
   ]
  },
  {
   "cell_type": "code",
   "execution_count": 12,
   "metadata": {},
   "outputs": [
    {
     "data": {
      "text/plain": [
       "dtype('O')"
      ]
     },
     "execution_count": 12,
     "metadata": {},
     "output_type": "execute_result"
    }
   ],
   "source": [
    "df_reduzido['TEMPERATURA DO AR - BULBO SECO, HORARIA (°C)'].dtypes"
   ]
  },
  {
   "cell_type": "code",
   "execution_count": 13,
   "metadata": {},
   "outputs": [
    {
     "data": {
      "text/plain": [
       "1       19.0\n",
       "37      24.0\n",
       "82      20.0\n",
       "91      22.0\n",
       "105     19.0\n",
       "        ... \n",
       "4337    20.0\n",
       "4345    15.0\n",
       "4355    13.0\n",
       "4356    13.0\n",
       "4365    11.0\n",
       "Name: TEMPERATURA DO AR - BULBO SECO, HORARIA (°C), Length: 436, dtype: float64"
      ]
     },
     "execution_count": 13,
     "metadata": {},
     "output_type": "execute_result"
    }
   ],
   "source": [
    "df_temperatura_ar = pd.to_numeric(df_reduzido['TEMPERATURA DO AR - BULBO SECO, HORARIA (°C)'], errors='coerce')\n",
    "df_temperatura_ar = df_temperatura_ar.dropna(axis=0, how='all')\n",
    "df_temperatura_ar"
   ]
  },
  {
   "cell_type": "code",
   "execution_count": 14,
   "metadata": {},
   "outputs": [
    {
     "data": {
      "text/plain": [
       "1      0.347826\n",
       "37     0.565217\n",
       "82     0.391304\n",
       "91     0.478261\n",
       "105    0.347826\n",
       "111    0.608696\n",
       "112    0.608696\n",
       "125    0.347826\n",
       "146    0.391304\n",
       "167    0.434783\n",
       "184    1.000000\n",
       "200    0.434783\n",
       "210    0.913043\n",
       "216    0.608696\n",
       "246    0.434783\n",
       "251    0.565217\n",
       "255    0.826087\n",
       "258    0.913043\n",
       "273    0.434783\n",
       "281    0.608696\n",
       "Name: TEMPERATURA DO AR - BULBO SECO, HORARIA (°C)_normalizado, dtype: float64"
      ]
     },
     "execution_count": 14,
     "metadata": {},
     "output_type": "execute_result"
    }
   ],
   "source": [
    "# 4 Bônus: normalizar coluna (qualquer uma)\n",
    "\n",
    "data = df_temperatura_ar\n",
    "df = pd.DataFrame(data)\n",
    "\n",
    "# Definindo a coluna a ser normalizada\n",
    "coluna_normalizada = 'TEMPERATURA DO AR - BULBO SECO, HORARIA (°C)'\n",
    "\n",
    "# Normalizando a coluna\n",
    "df[coluna_normalizada + '_normalizado'] = (df[coluna_normalizada] - df[coluna_normalizada].min()) / (df[coluna_normalizada].max() - df[coluna_normalizada].min())\n",
    "\n",
    "df[coluna_normalizada + '_normalizado'].head(20)\n"
   ]
  }
 ],
 "metadata": {
  "kernelspec": {
   "display_name": "Python 3",
   "language": "python",
   "name": "python3"
  },
  "language_info": {
   "codemirror_mode": {
    "name": "ipython",
    "version": 3
   },
   "file_extension": ".py",
   "mimetype": "text/x-python",
   "name": "python",
   "nbconvert_exporter": "python",
   "pygments_lexer": "ipython3",
   "version": "3.12.0"
  }
 },
 "nbformat": 4,
 "nbformat_minor": 2
}
