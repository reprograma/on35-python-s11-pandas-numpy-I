{
 "cells": [
  {
   "cell_type": "markdown",
   "metadata": {},
   "source": [
    "# Exercício de Casa 🏠 \n",
    "\n",
    "Utilizar a tabela de dados do clima de seu estado, manipule os dados de acordo com as instruções abaixo:\n",
    "    \n",
    "    - calcular a média da temperatura da amostra\n",
    "\n",
    "    - retirar nulos da coluna 'RADIACAO GLOBAL (Kj/m2)'\n",
    "\n",
    "    - copiar o dataframe reduzindo para 3 colunas (a sua escolha) e 1000 linhas (aleatórias)\n",
    "\n",
    "    - Bônus: normalizar coluna (qualquer uma)\n",
    "    \n",
    "    - Bônus II: pesquisar sobre outras formas de processamento de dados além das vistas em sala de aula"
   ]
  },
  {
   "cell_type": "code",
   "execution_count": 1,
   "metadata": {},
   "outputs": [],
   "source": [
    "import pandas as pd\n",
    "\n",
    "df = pd.read_csv('paraiba.CSV', delimiter=';', skiprows=8, encoding='latin1')"
   ]
  },
  {
   "cell_type": "code",
   "execution_count": 2,
   "metadata": {},
   "outputs": [
    {
     "data": {
      "text/html": [
       "<div>\n",
       "<style scoped>\n",
       "    .dataframe tbody tr th:only-of-type {\n",
       "        vertical-align: middle;\n",
       "    }\n",
       "\n",
       "    .dataframe tbody tr th {\n",
       "        vertical-align: top;\n",
       "    }\n",
       "\n",
       "    .dataframe thead th {\n",
       "        text-align: right;\n",
       "    }\n",
       "</style>\n",
       "<table border=\"1\" class=\"dataframe\">\n",
       "  <thead>\n",
       "    <tr style=\"text-align: right;\">\n",
       "      <th></th>\n",
       "      <th>Data</th>\n",
       "      <th>Hora UTC</th>\n",
       "      <th>PRECIPITAÇÃO TOTAL, HORÁRIO (mm)</th>\n",
       "      <th>PRESSAO ATMOSFERICA AO NIVEL DA ESTACAO, HORARIA (mB)</th>\n",
       "      <th>PRESSÃO ATMOSFERICA MAX.NA HORA ANT. (AUT) (mB)</th>\n",
       "      <th>PRESSÃO ATMOSFERICA MIN. NA HORA ANT. (AUT) (mB)</th>\n",
       "      <th>RADIACAO GLOBAL (Kj/m²)</th>\n",
       "      <th>TEMPERATURA DO AR - BULBO SECO, HORARIA (°C)</th>\n",
       "      <th>TEMPERATURA DO PONTO DE ORVALHO (°C)</th>\n",
       "      <th>TEMPERATURA MÁXIMA NA HORA ANT. (AUT) (°C)</th>\n",
       "      <th>TEMPERATURA MÍNIMA NA HORA ANT. (AUT) (°C)</th>\n",
       "      <th>TEMPERATURA ORVALHO MAX. NA HORA ANT. (AUT) (°C)</th>\n",
       "      <th>TEMPERATURA ORVALHO MIN. NA HORA ANT. (AUT) (°C)</th>\n",
       "      <th>UMIDADE REL. MAX. NA HORA ANT. (AUT) (%)</th>\n",
       "      <th>UMIDADE REL. MIN. NA HORA ANT. (AUT) (%)</th>\n",
       "      <th>UMIDADE RELATIVA DO AR, HORARIA (%)</th>\n",
       "      <th>VENTO, DIREÇÃO HORARIA (gr) (° (gr))</th>\n",
       "      <th>VENTO, RAJADA MAXIMA (m/s)</th>\n",
       "      <th>VENTO, VELOCIDADE HORARIA (m/s)</th>\n",
       "      <th>Unnamed: 19</th>\n",
       "    </tr>\n",
       "  </thead>\n",
       "  <tbody>\n",
       "    <tr>\n",
       "      <th>0</th>\n",
       "      <td>2023/01/01</td>\n",
       "      <td>0000 UTC</td>\n",
       "      <td>0</td>\n",
       "      <td>1009,8</td>\n",
       "      <td>1009,9</td>\n",
       "      <td>1009,4</td>\n",
       "      <td>NaN</td>\n",
       "      <td>24</td>\n",
       "      <td>22,8</td>\n",
       "      <td>24,2</td>\n",
       "      <td>23,9</td>\n",
       "      <td>23</td>\n",
       "      <td>22,7</td>\n",
       "      <td>93.0</td>\n",
       "      <td>93.0</td>\n",
       "      <td>93.0</td>\n",
       "      <td>160.0</td>\n",
       "      <td>4,4</td>\n",
       "      <td>,7</td>\n",
       "      <td>NaN</td>\n",
       "    </tr>\n",
       "    <tr>\n",
       "      <th>1</th>\n",
       "      <td>2023/01/01</td>\n",
       "      <td>0100 UTC</td>\n",
       "      <td>NaN</td>\n",
       "      <td>NaN</td>\n",
       "      <td>NaN</td>\n",
       "      <td>NaN</td>\n",
       "      <td>NaN</td>\n",
       "      <td>NaN</td>\n",
       "      <td>NaN</td>\n",
       "      <td>NaN</td>\n",
       "      <td>NaN</td>\n",
       "      <td>NaN</td>\n",
       "      <td>NaN</td>\n",
       "      <td>NaN</td>\n",
       "      <td>NaN</td>\n",
       "      <td>NaN</td>\n",
       "      <td>NaN</td>\n",
       "      <td>NaN</td>\n",
       "      <td>NaN</td>\n",
       "      <td>NaN</td>\n",
       "    </tr>\n",
       "    <tr>\n",
       "      <th>2</th>\n",
       "      <td>2023/01/01</td>\n",
       "      <td>0200 UTC</td>\n",
       "      <td>10,4</td>\n",
       "      <td>1009,3</td>\n",
       "      <td>1009,8</td>\n",
       "      <td>1009,3</td>\n",
       "      <td>NaN</td>\n",
       "      <td>23,3</td>\n",
       "      <td>22,3</td>\n",
       "      <td>24,3</td>\n",
       "      <td>23,3</td>\n",
       "      <td>23,1</td>\n",
       "      <td>22,3</td>\n",
       "      <td>94.0</td>\n",
       "      <td>92.0</td>\n",
       "      <td>94.0</td>\n",
       "      <td>156.0</td>\n",
       "      <td>3,6</td>\n",
       "      <td>,8</td>\n",
       "      <td>NaN</td>\n",
       "    </tr>\n",
       "    <tr>\n",
       "      <th>3</th>\n",
       "      <td>2023/01/01</td>\n",
       "      <td>0300 UTC</td>\n",
       "      <td>,6</td>\n",
       "      <td>1008,2</td>\n",
       "      <td>1009,3</td>\n",
       "      <td>1008,2</td>\n",
       "      <td>NaN</td>\n",
       "      <td>22,7</td>\n",
       "      <td>21,8</td>\n",
       "      <td>23,3</td>\n",
       "      <td>22,6</td>\n",
       "      <td>22,2</td>\n",
       "      <td>21,5</td>\n",
       "      <td>95.0</td>\n",
       "      <td>93.0</td>\n",
       "      <td>95.0</td>\n",
       "      <td>199.0</td>\n",
       "      <td>2,5</td>\n",
       "      <td>,7</td>\n",
       "      <td>NaN</td>\n",
       "    </tr>\n",
       "    <tr>\n",
       "      <th>4</th>\n",
       "      <td>2023/01/01</td>\n",
       "      <td>0400 UTC</td>\n",
       "      <td>0</td>\n",
       "      <td>1007,4</td>\n",
       "      <td>1008,2</td>\n",
       "      <td>1007,4</td>\n",
       "      <td>NaN</td>\n",
       "      <td>22,7</td>\n",
       "      <td>21,9</td>\n",
       "      <td>22,7</td>\n",
       "      <td>22,5</td>\n",
       "      <td>22</td>\n",
       "      <td>21,6</td>\n",
       "      <td>96.0</td>\n",
       "      <td>95.0</td>\n",
       "      <td>95.0</td>\n",
       "      <td>202.0</td>\n",
       "      <td>3,1</td>\n",
       "      <td>1,2</td>\n",
       "      <td>NaN</td>\n",
       "    </tr>\n",
       "  </tbody>\n",
       "</table>\n",
       "</div>"
      ],
      "text/plain": [
       "         Data  Hora UTC PRECIPITAÇÃO TOTAL, HORÁRIO (mm)  \\\n",
       "0  2023/01/01  0000 UTC                                0   \n",
       "1  2023/01/01  0100 UTC                              NaN   \n",
       "2  2023/01/01  0200 UTC                             10,4   \n",
       "3  2023/01/01  0300 UTC                               ,6   \n",
       "4  2023/01/01  0400 UTC                                0   \n",
       "\n",
       "  PRESSAO ATMOSFERICA AO NIVEL DA ESTACAO, HORARIA (mB)  \\\n",
       "0                                             1009,8      \n",
       "1                                                NaN      \n",
       "2                                             1009,3      \n",
       "3                                             1008,2      \n",
       "4                                             1007,4      \n",
       "\n",
       "  PRESSÃO ATMOSFERICA MAX.NA HORA ANT. (AUT) (mB)  \\\n",
       "0                                          1009,9   \n",
       "1                                             NaN   \n",
       "2                                          1009,8   \n",
       "3                                          1009,3   \n",
       "4                                          1008,2   \n",
       "\n",
       "  PRESSÃO ATMOSFERICA MIN. NA HORA ANT. (AUT) (mB) RADIACAO GLOBAL (Kj/m²)  \\\n",
       "0                                           1009,4                     NaN   \n",
       "1                                              NaN                     NaN   \n",
       "2                                           1009,3                     NaN   \n",
       "3                                           1008,2                     NaN   \n",
       "4                                           1007,4                     NaN   \n",
       "\n",
       "  TEMPERATURA DO AR - BULBO SECO, HORARIA (°C)  \\\n",
       "0                                           24   \n",
       "1                                          NaN   \n",
       "2                                         23,3   \n",
       "3                                         22,7   \n",
       "4                                         22,7   \n",
       "\n",
       "  TEMPERATURA DO PONTO DE ORVALHO (°C)  \\\n",
       "0                                 22,8   \n",
       "1                                  NaN   \n",
       "2                                 22,3   \n",
       "3                                 21,8   \n",
       "4                                 21,9   \n",
       "\n",
       "  TEMPERATURA MÁXIMA NA HORA ANT. (AUT) (°C)  \\\n",
       "0                                       24,2   \n",
       "1                                        NaN   \n",
       "2                                       24,3   \n",
       "3                                       23,3   \n",
       "4                                       22,7   \n",
       "\n",
       "  TEMPERATURA MÍNIMA NA HORA ANT. (AUT) (°C)  \\\n",
       "0                                       23,9   \n",
       "1                                        NaN   \n",
       "2                                       23,3   \n",
       "3                                       22,6   \n",
       "4                                       22,5   \n",
       "\n",
       "  TEMPERATURA ORVALHO MAX. NA HORA ANT. (AUT) (°C)  \\\n",
       "0                                               23   \n",
       "1                                              NaN   \n",
       "2                                             23,1   \n",
       "3                                             22,2   \n",
       "4                                               22   \n",
       "\n",
       "  TEMPERATURA ORVALHO MIN. NA HORA ANT. (AUT) (°C)  \\\n",
       "0                                             22,7   \n",
       "1                                              NaN   \n",
       "2                                             22,3   \n",
       "3                                             21,5   \n",
       "4                                             21,6   \n",
       "\n",
       "   UMIDADE REL. MAX. NA HORA ANT. (AUT) (%)  \\\n",
       "0                                      93.0   \n",
       "1                                       NaN   \n",
       "2                                      94.0   \n",
       "3                                      95.0   \n",
       "4                                      96.0   \n",
       "\n",
       "   UMIDADE REL. MIN. NA HORA ANT. (AUT) (%)  \\\n",
       "0                                      93.0   \n",
       "1                                       NaN   \n",
       "2                                      92.0   \n",
       "3                                      93.0   \n",
       "4                                      95.0   \n",
       "\n",
       "   UMIDADE RELATIVA DO AR, HORARIA (%)  VENTO, DIREÇÃO HORARIA (gr) (° (gr))  \\\n",
       "0                                 93.0                                 160.0   \n",
       "1                                  NaN                                   NaN   \n",
       "2                                 94.0                                 156.0   \n",
       "3                                 95.0                                 199.0   \n",
       "4                                 95.0                                 202.0   \n",
       "\n",
       "  VENTO, RAJADA MAXIMA (m/s) VENTO, VELOCIDADE HORARIA (m/s)  Unnamed: 19  \n",
       "0                        4,4                              ,7          NaN  \n",
       "1                        NaN                             NaN          NaN  \n",
       "2                        3,6                              ,8          NaN  \n",
       "3                        2,5                              ,7          NaN  \n",
       "4                        3,1                             1,2          NaN  "
      ]
     },
     "execution_count": 2,
     "metadata": {},
     "output_type": "execute_result"
    }
   ],
   "source": [
    "df.head()"
   ]
  },
  {
   "cell_type": "code",
   "execution_count": 7,
   "metadata": {},
   "outputs": [
    {
     "data": {
      "text/plain": [
       "Data                                                      object\n",
       "Hora UTC                                                  object\n",
       "PRECIPITAÇÃO TOTAL, HORÁRIO (mm)                          object\n",
       "PRESSAO ATMOSFERICA AO NIVEL DA ESTACAO, HORARIA (mB)     object\n",
       "PRESSÃO ATMOSFERICA MAX.NA HORA ANT. (AUT) (mB)           object\n",
       "PRESSÃO ATMOSFERICA MIN. NA HORA ANT. (AUT) (mB)          object\n",
       "RADIACAO GLOBAL (Kj/m²)                                   object\n",
       "TEMPERATURA DO AR - BULBO SECO, HORARIA (°C)              object\n",
       "TEMPERATURA DO PONTO DE ORVALHO (°C)                      object\n",
       "TEMPERATURA MÁXIMA NA HORA ANT. (AUT) (°C)                object\n",
       "TEMPERATURA MÍNIMA NA HORA ANT. (AUT) (°C)                object\n",
       "TEMPERATURA ORVALHO MAX. NA HORA ANT. (AUT) (°C)          object\n",
       "TEMPERATURA ORVALHO MIN. NA HORA ANT. (AUT) (°C)          object\n",
       "UMIDADE REL. MAX. NA HORA ANT. (AUT) (%)                 float64\n",
       "UMIDADE REL. MIN. NA HORA ANT. (AUT) (%)                 float64\n",
       "UMIDADE RELATIVA DO AR, HORARIA (%)                      float64\n",
       "VENTO, DIREÇÃO HORARIA (gr) (° (gr))                     float64\n",
       "VENTO, RAJADA MAXIMA (m/s)                                object\n",
       "VENTO, VELOCIDADE HORARIA (m/s)                           object\n",
       "Unnamed: 19                                              float64\n",
       "dtype: object"
      ]
     },
     "execution_count": 7,
     "metadata": {},
     "output_type": "execute_result"
    }
   ],
   "source": [
    "df.dtypes"
   ]
  },
  {
   "cell_type": "markdown",
   "metadata": {},
   "source": [
    "### Verificando a média da temperatura"
   ]
  },
  {
   "cell_type": "code",
   "execution_count": 8,
   "metadata": {},
   "outputs": [],
   "source": [
    "coluna_temperatura  = df['TEMPERATURA DO AR - BULBO SECO, HORARIA (°C)']"
   ]
  },
  {
   "cell_type": "code",
   "execution_count": 9,
   "metadata": {},
   "outputs": [],
   "source": [
    "coluna_temperatura = pd.to_numeric(df['TEMPERATURA DO AR - BULBO SECO, HORARIA (°C)'], errors='coerce')"
   ]
  },
  {
   "cell_type": "code",
   "execution_count": 10,
   "metadata": {},
   "outputs": [
    {
     "data": {
      "text/plain": [
       "np.float64(26.69953596287703)"
      ]
     },
     "execution_count": 10,
     "metadata": {},
     "output_type": "execute_result"
    }
   ],
   "source": [
    "coluna_temperatura.mean()"
   ]
  },
  {
   "cell_type": "markdown",
   "metadata": {},
   "source": [
    "##### A média da temperatura do ar - bulbo seco, na cidade de João Pessoa, Paraíba, foi de 26.7 °C. "
   ]
  },
  {
   "cell_type": "markdown",
   "metadata": {},
   "source": [
    "### Retirando Nulos"
   ]
  },
  {
   "cell_type": "code",
   "execution_count": 12,
   "metadata": {},
   "outputs": [
    {
     "data": {
      "text/plain": [
       "0        True\n",
       "1        True\n",
       "2        True\n",
       "3        True\n",
       "4        True\n",
       "        ...  \n",
       "8755    False\n",
       "8756    False\n",
       "8757    False\n",
       "8758     True\n",
       "8759     True\n",
       "Name: RADIACAO GLOBAL (Kj/m²), Length: 8760, dtype: bool"
      ]
     },
     "execution_count": 12,
     "metadata": {},
     "output_type": "execute_result"
    }
   ],
   "source": [
    "df['RADIACAO GLOBAL (Kj/m²)'].isnull()"
   ]
  },
  {
   "cell_type": "code",
   "execution_count": 13,
   "metadata": {},
   "outputs": [
    {
     "data": {
      "text/plain": [
       "9           62\n",
       "10       368,5\n",
       "11        1112\n",
       "12      2064,6\n",
       "13      2229,4\n",
       "         ...  \n",
       "8753    2814,6\n",
       "8754    2184,6\n",
       "8755    1523,9\n",
       "8756     303,1\n",
       "8757      40,3\n",
       "Name: RADIACAO GLOBAL (Kj/m²), Length: 4764, dtype: object"
      ]
     },
     "execution_count": 13,
     "metadata": {},
     "output_type": "execute_result"
    }
   ],
   "source": [
    "remover = df['RADIACAO GLOBAL (Kj/m²)'].dropna(axis=0, how='all')\n",
    "remover"
   ]
  },
  {
   "cell_type": "markdown",
   "metadata": {},
   "source": [
    "### Reduzir DataFrame"
   ]
  },
  {
   "cell_type": "code",
   "execution_count": 14,
   "metadata": {},
   "outputs": [],
   "source": [
    "df_reduzido  = df[['Data', 'PRESSÃO ATMOSFERICA MAX.NA HORA ANT. (AUT) (mB)', 'TEMPERATURA MÁXIMA NA HORA ANT. (AUT) (°C)']]"
   ]
  },
  {
   "cell_type": "code",
   "execution_count": 15,
   "metadata": {},
   "outputs": [],
   "source": [
    "df_reduzido = df_reduzido.sample(n=1000)"
   ]
  },
  {
   "cell_type": "code",
   "execution_count": 22,
   "metadata": {},
   "outputs": [
    {
     "data": {
      "text/plain": [
       "(1000, 3)"
      ]
     },
     "execution_count": 22,
     "metadata": {},
     "output_type": "execute_result"
    }
   ],
   "source": [
    "df_reduzido.shape"
   ]
  },
  {
   "cell_type": "markdown",
   "metadata": {},
   "source": [
    "### Bônus 1: Normalizar coluna"
   ]
  },
  {
   "cell_type": "code",
   "execution_count": 29,
   "metadata": {},
   "outputs": [],
   "source": [
    "coluna_pressao = pd.to_numeric(df['TEMPERATURA DO AR - BULBO SECO, HORARIA (°C)'], errors='coerce')"
   ]
  },
  {
   "cell_type": "code",
   "execution_count": 32,
   "metadata": {},
   "outputs": [],
   "source": [
    "df['Coluna1_normalizada'] = (df['UMIDADE REL. MAX. NA HORA ANT. (AUT) (%)'] - df['UMIDADE REL. MAX. NA HORA ANT. (AUT) (%)'].min()) / (df['UMIDADE REL. MAX. NA HORA ANT. (AUT) (%)'].max() - df['UMIDADE REL. MAX. NA HORA ANT. (AUT) (%)'].min())"
   ]
  }
 ],
 "metadata": {
  "kernelspec": {
   "display_name": "Python 3",
   "language": "python",
   "name": "python3"
  },
  "language_info": {
   "codemirror_mode": {
    "name": "ipython",
    "version": 3
   },
   "file_extension": ".py",
   "mimetype": "text/x-python",
   "name": "python",
   "nbconvert_exporter": "python",
   "pygments_lexer": "ipython3",
   "version": "3.12.3"
  }
 },
 "nbformat": 4,
 "nbformat_minor": 2
}
